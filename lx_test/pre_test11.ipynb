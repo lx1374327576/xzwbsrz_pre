{
 "cells": [
  {
   "cell_type": "code",
   "execution_count": 1,
   "metadata": {},
   "outputs": [
    {
     "name": "stderr",
     "output_type": "stream",
     "text": [
      "Using TensorFlow backend.\n"
     ]
    }
   ],
   "source": [
    "import numpy as np\n",
    "import pandas as pd\n",
    "import tensorflow as tf\n",
    "import matplotlib.pyplot as plt\n",
    "import xgboost as xgb\n",
    "import csv\n",
    "from sklearn import preprocessing\n",
    "from keras.layers import LSTM, Dense\n",
    "from keras.models import Sequential\n",
    "from keras.layers.core import Masking\n",
    "from keras.layers.embeddings import Embedding\n",
    "df1 = pd.read_csv(\"data/train_preliminary/user.csv\")\n",
    "df2 = pd.read_csv(\"data/train_preliminary/ad.csv\")\n",
    "df3 = pd.read_csv(\"data/train_preliminary/click_log.csv\")"
   ]
  },
  {
   "cell_type": "code",
   "execution_count": 3,
   "metadata": {},
   "outputs": [
    {
     "data": {
      "text/html": [
       "<div>\n",
       "<style scoped>\n",
       "    .dataframe tbody tr th:only-of-type {\n",
       "        vertical-align: middle;\n",
       "    }\n",
       "\n",
       "    .dataframe tbody tr th {\n",
       "        vertical-align: top;\n",
       "    }\n",
       "\n",
       "    .dataframe thead th {\n",
       "        text-align: right;\n",
       "    }\n",
       "</style>\n",
       "<table border=\"1\" class=\"dataframe\">\n",
       "  <thead>\n",
       "    <tr style=\"text-align: right;\">\n",
       "      <th></th>\n",
       "      <th>time</th>\n",
       "      <th>user_id</th>\n",
       "      <th>creative_id</th>\n",
       "      <th>click_times</th>\n",
       "    </tr>\n",
       "  </thead>\n",
       "  <tbody>\n",
       "    <tr>\n",
       "      <th>26196513</th>\n",
       "      <td>20</td>\n",
       "      <td>1</td>\n",
       "      <td>821396</td>\n",
       "      <td>1</td>\n",
       "    </tr>\n",
       "    <tr>\n",
       "      <th>26196514</th>\n",
       "      <td>20</td>\n",
       "      <td>1</td>\n",
       "      <td>209778</td>\n",
       "      <td>1</td>\n",
       "    </tr>\n",
       "    <tr>\n",
       "      <th>26196515</th>\n",
       "      <td>20</td>\n",
       "      <td>1</td>\n",
       "      <td>877468</td>\n",
       "      <td>1</td>\n",
       "    </tr>\n",
       "    <tr>\n",
       "      <th>26196517</th>\n",
       "      <td>39</td>\n",
       "      <td>1</td>\n",
       "      <td>1683713</td>\n",
       "      <td>1</td>\n",
       "    </tr>\n",
       "    <tr>\n",
       "      <th>26196524</th>\n",
       "      <td>40</td>\n",
       "      <td>1</td>\n",
       "      <td>122032</td>\n",
       "      <td>1</td>\n",
       "    </tr>\n",
       "    <tr>\n",
       "      <th>...</th>\n",
       "      <td>...</td>\n",
       "      <td>...</td>\n",
       "      <td>...</td>\n",
       "      <td>...</td>\n",
       "    </tr>\n",
       "    <tr>\n",
       "      <th>26008365</th>\n",
       "      <td>57</td>\n",
       "      <td>900000</td>\n",
       "      <td>2692144</td>\n",
       "      <td>1</td>\n",
       "    </tr>\n",
       "    <tr>\n",
       "      <th>26008358</th>\n",
       "      <td>71</td>\n",
       "      <td>900000</td>\n",
       "      <td>3391205</td>\n",
       "      <td>1</td>\n",
       "    </tr>\n",
       "    <tr>\n",
       "      <th>26008359</th>\n",
       "      <td>72</td>\n",
       "      <td>900000</td>\n",
       "      <td>3471208</td>\n",
       "      <td>1</td>\n",
       "    </tr>\n",
       "    <tr>\n",
       "      <th>26008361</th>\n",
       "      <td>74</td>\n",
       "      <td>900000</td>\n",
       "      <td>3527098</td>\n",
       "      <td>1</td>\n",
       "    </tr>\n",
       "    <tr>\n",
       "      <th>26008360</th>\n",
       "      <td>91</td>\n",
       "      <td>900000</td>\n",
       "      <td>4387250</td>\n",
       "      <td>1</td>\n",
       "    </tr>\n",
       "  </tbody>\n",
       "</table>\n",
       "<p>30082771 rows × 4 columns</p>\n",
       "</div>"
      ],
      "text/plain": [
       "          time  user_id  creative_id  click_times\n",
       "26196513    20        1       821396            1\n",
       "26196514    20        1       209778            1\n",
       "26196515    20        1       877468            1\n",
       "26196517    39        1      1683713            1\n",
       "26196524    40        1       122032            1\n",
       "...        ...      ...          ...          ...\n",
       "26008365    57   900000      2692144            1\n",
       "26008358    71   900000      3391205            1\n",
       "26008359    72   900000      3471208            1\n",
       "26008361    74   900000      3527098            1\n",
       "26008360    91   900000      4387250            1\n",
       "\n",
       "[30082771 rows x 4 columns]"
      ]
     },
     "execution_count": 3,
     "metadata": {},
     "output_type": "execute_result"
    }
   ],
   "source": [
    "df3.sort_values(['user_id', 'time'], inplace=True)\n",
    "df3"
   ]
  },
  {
   "cell_type": "code",
   "execution_count": 68,
   "metadata": {},
   "outputs": [
    {
     "data": {
      "text/plain": [
       "(30082771,)"
      ]
     },
     "execution_count": 68,
     "metadata": {},
     "output_type": "execute_result"
    }
   ],
   "source": [
    "sentences = np.array(df3['creative_id'])\n",
    "sentences.shape"
   ]
  },
  {
   "cell_type": "code",
   "execution_count": 6,
   "metadata": {},
   "outputs": [
    {
     "name": "stdout",
     "output_type": "stream",
     "text": [
      "Looking in indexes: https://pypi.tuna.tsinghua.edu.cn/simple\n",
      "Collecting gensim\n",
      "  Downloading https://pypi.tuna.tsinghua.edu.cn/packages/e6/91/3262d4d8c16a614113103758278ae75c5820e1eca09e4cfdffcc714e0f84/gensim-3.8.3-cp36-cp36m-macosx_10_9_x86_64.whl (24.2 MB)\n",
      "\u001b[K     |████████████████████████████████| 24.2 MB 648 kB/s eta 0:00:01\n",
      "\u001b[?25hRequirement already satisfied: scipy>=0.18.1 in /Users/lixiang/Documents/GitHub/xzwbsrz_pre/venv/lib/python3.6/site-packages (from gensim) (1.4.1)\n",
      "Requirement already satisfied: numpy>=1.11.3 in /Users/lixiang/Documents/GitHub/xzwbsrz_pre/venv/lib/python3.6/site-packages (from gensim) (1.18.4)\n",
      "Requirement already satisfied: six>=1.5.0 in /Users/lixiang/Documents/GitHub/xzwbsrz_pre/venv/lib/python3.6/site-packages (from gensim) (1.14.0)\n",
      "Collecting smart-open>=1.8.1\n",
      "  Downloading https://pypi.tuna.tsinghua.edu.cn/packages/74/77/744c79da6e66691e3500b6dffff29bdd787015eae817d594791edc7b719b/smart_open-2.0.0.tar.gz (103 kB)\n",
      "\u001b[K     |████████████████████████████████| 103 kB 1.1 MB/s eta 0:00:01\n",
      "\u001b[?25hRequirement already satisfied: requests in /Users/lixiang/Documents/GitHub/xzwbsrz_pre/venv/lib/python3.6/site-packages (from smart-open>=1.8.1->gensim) (2.23.0)\n",
      "Collecting boto\n",
      "  Downloading https://pypi.tuna.tsinghua.edu.cn/packages/23/10/c0b78c27298029e4454a472a1919bde20cb182dab1662cec7f2ca1dcc523/boto-2.49.0-py2.py3-none-any.whl (1.4 MB)\n",
      "\u001b[K     |████████████████████████████████| 1.4 MB 870 kB/s eta 0:00:01\n",
      "\u001b[?25hCollecting boto3\n",
      "  Downloading https://pypi.tuna.tsinghua.edu.cn/packages/bd/a9/1e321ad1a91355f91af9261e176c6aabf543019317a0e8c59dd2fd981c18/boto3-1.13.16-py2.py3-none-any.whl (128 kB)\n",
      "\u001b[K     |████████████████████████████████| 128 kB 862 kB/s eta 0:00:01\n",
      "\u001b[?25hRequirement already satisfied: urllib3!=1.25.0,!=1.25.1,<1.26,>=1.21.1 in /Users/lixiang/Documents/GitHub/xzwbsrz_pre/venv/lib/python3.6/site-packages (from requests->smart-open>=1.8.1->gensim) (1.25.9)\n",
      "Requirement already satisfied: certifi>=2017.4.17 in /Users/lixiang/Documents/GitHub/xzwbsrz_pre/venv/lib/python3.6/site-packages (from requests->smart-open>=1.8.1->gensim) (2020.4.5.1)\n",
      "Requirement already satisfied: idna<3,>=2.5 in /Users/lixiang/Documents/GitHub/xzwbsrz_pre/venv/lib/python3.6/site-packages (from requests->smart-open>=1.8.1->gensim) (2.9)\n",
      "Requirement already satisfied: chardet<4,>=3.0.2 in /Users/lixiang/Documents/GitHub/xzwbsrz_pre/venv/lib/python3.6/site-packages (from requests->smart-open>=1.8.1->gensim) (3.0.4)\n",
      "Collecting botocore<1.17.0,>=1.16.16\n",
      "  Downloading https://pypi.tuna.tsinghua.edu.cn/packages/17/ac/b21f4aba98f239ee5341d79c64bb502a64ad8ac98331bf0d9568707c6576/botocore-1.16.16-py2.py3-none-any.whl (6.2 MB)\n",
      "\u001b[K     |████████████████████████████████| 6.2 MB 737 kB/s eta 0:00:01\n",
      "\u001b[?25hCollecting s3transfer<0.4.0,>=0.3.0\n",
      "  Downloading https://pypi.tuna.tsinghua.edu.cn/packages/69/79/e6afb3d8b0b4e96cefbdc690f741d7dd24547ff1f94240c997a26fa908d3/s3transfer-0.3.3-py2.py3-none-any.whl (69 kB)\n",
      "\u001b[K     |████████████████████████████████| 69 kB 924 kB/s eta 0:00:011\n",
      "\u001b[?25hCollecting jmespath<1.0.0,>=0.7.1\n",
      "  Downloading https://pypi.tuna.tsinghua.edu.cn/packages/07/cb/5f001272b6faeb23c1c9e0acc04d48eaaf5c862c17709d20e3469c6e0139/jmespath-0.10.0-py2.py3-none-any.whl (24 kB)\n",
      "Collecting docutils<0.16,>=0.10\n",
      "  Downloading https://pypi.tuna.tsinghua.edu.cn/packages/22/cd/a6aa959dca619918ccb55023b4cb151949c64d4d5d55b3f4ffd7eee0c6e8/docutils-0.15.2-py3-none-any.whl (547 kB)\n",
      "\u001b[K     |████████████████████████████████| 547 kB 739 kB/s eta 0:00:01\n",
      "\u001b[?25hRequirement already satisfied: python-dateutil<3.0.0,>=2.1 in /Users/lixiang/Documents/GitHub/xzwbsrz_pre/venv/lib/python3.6/site-packages (from botocore<1.17.0,>=1.16.16->boto3->smart-open>=1.8.1->gensim) (2.8.1)\n",
      "Building wheels for collected packages: smart-open\n",
      "  Building wheel for smart-open (setup.py) ... \u001b[?25ldone\n",
      "\u001b[?25h  Created wheel for smart-open: filename=smart_open-2.0.0-py3-none-any.whl size=101341 sha256=b4077b6da422f516f8dc92d03a292ede9469d9f176850a6349bc33f0b22dcd78\n",
      "  Stored in directory: /Users/lixiang/Library/Caches/pip/wheels/fa/90/37/ba7001e28d41df9e51a76832d0f074e15209b45975c36fe10a\n",
      "Successfully built smart-open\n",
      "Installing collected packages: boto, docutils, jmespath, botocore, s3transfer, boto3, smart-open, gensim\n",
      "Successfully installed boto-2.49.0 boto3-1.13.16 botocore-1.16.16 docutils-0.15.2 gensim-3.8.3 jmespath-0.10.0 s3transfer-0.3.3 smart-open-2.0.0\n",
      "\u001b[33mWARNING: You are using pip version 20.1; however, version 20.1.1 is available.\n",
      "You should consider upgrading via the '/Users/lixiang/Documents/GitHub/xzwbsrz_pre/venv/bin/python3 -m pip install --upgrade pip' command.\u001b[0m\n"
     ]
    }
   ],
   "source": [
    "!pip install gensim\n",
    "from gensim.models import Word2Vec"
   ]
  },
  {
   "cell_type": "code",
   "execution_count": 7,
   "metadata": {},
   "outputs": [
    {
     "name": "stdout",
     "output_type": "stream",
     "text": [
      "Looking in indexes: https://pypi.tuna.tsinghua.edu.cn/simple\n",
      "Collecting Cpython\n",
      "  Downloading https://pypi.tuna.tsinghua.edu.cn/packages/9c/98/711d92a432c8f17f2ae8e00f1886ccf5bb1d92ecc7685baabbeb8066eebc/cPython-0.0.5.tar.gz (4.4 kB)\n",
      "Collecting pymongo\n",
      "  Downloading https://pypi.tuna.tsinghua.edu.cn/packages/c0/78/b4d1bf9d572cf283fb5a97ddaa289feb6d6bcd72faf5c4303e313c7100b9/pymongo-3.10.1-cp36-cp36m-macosx_10_9_x86_64.whl (346 kB)\n",
      "\u001b[K     |████████████████████████████████| 346 kB 977 kB/s eta 0:00:01\n",
      "\u001b[?25hRequirement already satisfied: requests in /Users/lixiang/Documents/GitHub/xzwbsrz_pre/venv/lib/python3.6/site-packages (from Cpython) (2.23.0)\n",
      "Requirement already satisfied: certifi>=2017.4.17 in /Users/lixiang/Documents/GitHub/xzwbsrz_pre/venv/lib/python3.6/site-packages (from requests->Cpython) (2020.4.5.1)\n",
      "Requirement already satisfied: chardet<4,>=3.0.2 in /Users/lixiang/Documents/GitHub/xzwbsrz_pre/venv/lib/python3.6/site-packages (from requests->Cpython) (3.0.4)\n",
      "Requirement already satisfied: idna<3,>=2.5 in /Users/lixiang/Documents/GitHub/xzwbsrz_pre/venv/lib/python3.6/site-packages (from requests->Cpython) (2.9)\n",
      "Requirement already satisfied: urllib3!=1.25.0,!=1.25.1,<1.26,>=1.21.1 in /Users/lixiang/Documents/GitHub/xzwbsrz_pre/venv/lib/python3.6/site-packages (from requests->Cpython) (1.25.9)\n",
      "Building wheels for collected packages: Cpython\n",
      "  Building wheel for Cpython (setup.py) ... \u001b[?25ldone\n",
      "\u001b[?25h  Created wheel for Cpython: filename=cPython-0.0.5-py3-none-any.whl size=4581 sha256=91efad2084a66776b380ad76d2932558e2155f4a274a9b68ff94b067682ef64d\n",
      "  Stored in directory: /Users/lixiang/Library/Caches/pip/wheels/f8/4f/eb/61ee0b2a066345b007137d10de02b282d4ac33c5f29f36f4b1\n",
      "Successfully built Cpython\n",
      "Installing collected packages: pymongo, Cpython\n",
      "Successfully installed Cpython-0.0.5 pymongo-3.10.1\n",
      "\u001b[33mWARNING: You are using pip version 20.1; however, version 20.1.1 is available.\n",
      "You should consider upgrading via the '/Users/lixiang/Documents/GitHub/xzwbsrz_pre/venv/bin/python3 -m pip install --upgrade pip' command.\u001b[0m\n"
     ]
    }
   ],
   "source": [
    "!pip install Cpython"
   ]
  },
  {
   "cell_type": "code",
   "execution_count": 69,
   "metadata": {},
   "outputs": [],
   "source": [
    "sentences = list(sentences)"
   ]
  },
  {
   "cell_type": "code",
   "execution_count": 70,
   "metadata": {},
   "outputs": [],
   "source": [
    "for i in range(len(sentences)):\n",
    "    sentences[i] = str(sentences[i])"
   ]
  },
  {
   "cell_type": "code",
   "execution_count": 71,
   "metadata": {},
   "outputs": [
    {
     "data": {
      "text/plain": [
       "1"
      ]
     },
     "execution_count": 71,
     "metadata": {},
     "output_type": "execute_result"
    }
   ],
   "source": [
    "sentences = np.array(sentences).reshape(1, -1)\n",
    "len(sentences)"
   ]
  },
  {
   "cell_type": "code",
   "execution_count": 76,
   "metadata": {},
   "outputs": [
    {
     "data": {
      "text/plain": [
       "array([['821396', '209778', '877468', ..., '3471208', '3527098',\n",
       "        '4387250']], dtype='<U7')"
      ]
     },
     "execution_count": 76,
     "metadata": {},
     "output_type": "execute_result"
    }
   ],
   "source": [
    "sentences"
   ]
  },
  {
   "cell_type": "code",
   "execution_count": 80,
   "metadata": {},
   "outputs": [],
   "source": [
    "model= Word2Vec(size=20, iter=1, min_count=0, window=10)\n",
    "model.build_vocab(sentences)"
   ]
  },
  {
   "cell_type": "code",
   "execution_count": 87,
   "metadata": {},
   "outputs": [
    {
     "data": {
      "text/plain": [
       "(480671750, 973766880)"
      ]
     },
     "execution_count": 87,
     "metadata": {},
     "output_type": "execute_result"
    }
   ],
   "source": [
    "model.train(sentences[0, :], total_examples=model.corpus_count, epochs=5)"
   ]
  },
  {
   "cell_type": "code",
   "execution_count": 88,
   "metadata": {},
   "outputs": [
    {
     "data": {
      "text/plain": [
       "2481135"
      ]
     },
     "execution_count": 88,
     "metadata": {},
     "output_type": "execute_result"
    }
   ],
   "source": [
    "len(model.wv.vocab.keys())"
   ]
  },
  {
   "cell_type": "code",
   "execution_count": 89,
   "metadata": {},
   "outputs": [
    {
     "name": "stderr",
     "output_type": "stream",
     "text": [
      "/Users/lixiang/Documents/GitHub/xzwbsrz_pre/venv/lib/python3.6/site-packages/ipykernel_launcher.py:1: DeprecationWarning: Call to deprecated `__getitem__` (Method will be removed in 4.0.0, use self.wv.__getitem__() instead).\n",
      "  \"\"\"Entry point for launching an IPython kernel.\n"
     ]
    },
    {
     "data": {
      "text/plain": [
       "array([ 0.00550138, -0.01321523, -0.02479015, -0.01082552,  0.01266956,\n",
       "        0.00727372, -0.00173351, -0.01982521,  0.00812281, -0.00372631,\n",
       "       -0.01859471,  0.01972486, -0.00523568, -0.01869161,  0.00740368,\n",
       "        0.00153358, -0.01800693,  0.0095886 ,  0.01744165, -0.01757688],\n",
       "      dtype=float32)"
      ]
     },
     "execution_count": 89,
     "metadata": {},
     "output_type": "execute_result"
    }
   ],
   "source": [
    "model['821396']"
   ]
  },
  {
   "cell_type": "code",
   "execution_count": 19,
   "metadata": {},
   "outputs": [
    {
     "data": {
      "text/html": [
       "<div>\n",
       "<style scoped>\n",
       "    .dataframe tbody tr th:only-of-type {\n",
       "        vertical-align: middle;\n",
       "    }\n",
       "\n",
       "    .dataframe tbody tr th {\n",
       "        vertical-align: top;\n",
       "    }\n",
       "\n",
       "    .dataframe thead th {\n",
       "        text-align: right;\n",
       "    }\n",
       "</style>\n",
       "<table border=\"1\" class=\"dataframe\">\n",
       "  <thead>\n",
       "    <tr style=\"text-align: right;\">\n",
       "      <th></th>\n",
       "      <th>time</th>\n",
       "      <th>creative_id</th>\n",
       "      <th>click_times</th>\n",
       "    </tr>\n",
       "  </thead>\n",
       "  <tbody>\n",
       "    <tr>\n",
       "      <th>0</th>\n",
       "      <td>20.0</td>\n",
       "      <td>821396.0</td>\n",
       "      <td>1.0</td>\n",
       "    </tr>\n",
       "    <tr>\n",
       "      <th>1</th>\n",
       "      <td>20.0</td>\n",
       "      <td>209778.0</td>\n",
       "      <td>1.0</td>\n",
       "    </tr>\n",
       "    <tr>\n",
       "      <th>2</th>\n",
       "      <td>20.0</td>\n",
       "      <td>877468.0</td>\n",
       "      <td>1.0</td>\n",
       "    </tr>\n",
       "    <tr>\n",
       "      <th>3</th>\n",
       "      <td>39.0</td>\n",
       "      <td>1683713.0</td>\n",
       "      <td>1.0</td>\n",
       "    </tr>\n",
       "    <tr>\n",
       "      <th>4</th>\n",
       "      <td>40.0</td>\n",
       "      <td>122032.0</td>\n",
       "      <td>1.0</td>\n",
       "    </tr>\n",
       "    <tr>\n",
       "      <th>...</th>\n",
       "      <td>...</td>\n",
       "      <td>...</td>\n",
       "      <td>...</td>\n",
       "    </tr>\n",
       "    <tr>\n",
       "      <th>26999995</th>\n",
       "      <td>0.0</td>\n",
       "      <td>0.0</td>\n",
       "      <td>0.0</td>\n",
       "    </tr>\n",
       "    <tr>\n",
       "      <th>26999996</th>\n",
       "      <td>0.0</td>\n",
       "      <td>0.0</td>\n",
       "      <td>0.0</td>\n",
       "    </tr>\n",
       "    <tr>\n",
       "      <th>26999997</th>\n",
       "      <td>0.0</td>\n",
       "      <td>0.0</td>\n",
       "      <td>0.0</td>\n",
       "    </tr>\n",
       "    <tr>\n",
       "      <th>26999998</th>\n",
       "      <td>0.0</td>\n",
       "      <td>0.0</td>\n",
       "      <td>0.0</td>\n",
       "    </tr>\n",
       "    <tr>\n",
       "      <th>26999999</th>\n",
       "      <td>0.0</td>\n",
       "      <td>0.0</td>\n",
       "      <td>0.0</td>\n",
       "    </tr>\n",
       "  </tbody>\n",
       "</table>\n",
       "<p>27000000 rows × 3 columns</p>\n",
       "</div>"
      ],
      "text/plain": [
       "          time  creative_id  click_times\n",
       "0         20.0     821396.0          1.0\n",
       "1         20.0     209778.0          1.0\n",
       "2         20.0     877468.0          1.0\n",
       "3         39.0    1683713.0          1.0\n",
       "4         40.0     122032.0          1.0\n",
       "...        ...          ...          ...\n",
       "26999995   0.0          0.0          0.0\n",
       "26999996   0.0          0.0          0.0\n",
       "26999997   0.0          0.0          0.0\n",
       "26999998   0.0          0.0          0.0\n",
       "26999999   0.0          0.0          0.0\n",
       "\n",
       "[27000000 rows x 3 columns]"
      ]
     },
     "execution_count": 19,
     "metadata": {},
     "output_type": "execute_result"
    }
   ],
   "source": [
    "def check_matrix(x):\n",
    "    if x.shape[0] >= 30:\n",
    "        return x.iloc[:30, :]\n",
    "    else:\n",
    "        tmp1 = np.zeros((30 - x.shape[0], x.shape[1]))\n",
    "        tmp1 = pd.DataFrame(tmp1)\n",
    "        tmp1.columns = x.columns\n",
    "        return pd.concat([x, tmp1], axis=0)\n",
    "X = df3.groupby('user_id').apply(check_matrix)\n",
    "X = X.reset_index(drop=True)\n",
    "X = X.drop('user_id', axis = 1)\n",
    "X"
   ]
  },
  {
   "cell_type": "code",
   "execution_count": 91,
   "metadata": {},
   "outputs": [
    {
     "name": "stderr",
     "output_type": "stream",
     "text": [
      "/Users/lixiang/Documents/GitHub/xzwbsrz_pre/venv/lib/python3.6/site-packages/ipykernel_launcher.py:6: DeprecationWarning: Call to deprecated `__getitem__` (Method will be removed in 4.0.0, use self.wv.__getitem__() instead).\n",
      "  \n"
     ]
    }
   ],
   "source": [
    "x = np.array(X)\n",
    "x_tmp = np.zeros((27000000, 20))\n",
    "for i in range(len(x)):\n",
    "    if x[i, 1] == 0:\n",
    "        continue\n",
    "    x_tmp[i, :] = model[str(int(x[i, 1]))]"
   ]
  },
  {
   "cell_type": "code",
   "execution_count": 98,
   "metadata": {},
   "outputs": [
    {
     "data": {
      "text/plain": [
       "(27000000, 2)"
      ]
     },
     "execution_count": 98,
     "metadata": {},
     "output_type": "execute_result"
    }
   ],
   "source": [
    "x = np.delete(x, [1], axis=1)\n",
    "x.shape"
   ]
  },
  {
   "cell_type": "code",
   "execution_count": 99,
   "metadata": {},
   "outputs": [
    {
     "data": {
      "text/plain": [
       "(27000000, 22)"
      ]
     },
     "execution_count": 99,
     "metadata": {},
     "output_type": "execute_result"
    }
   ],
   "source": [
    "x = np.concatenate((x, x_tmp), axis=1)\n",
    "x.shape"
   ]
  },
  {
   "cell_type": "code",
   "execution_count": 100,
   "metadata": {},
   "outputs": [],
   "source": [
    "x = x.reshape((-1, 30, 22))"
   ]
  },
  {
   "cell_type": "code",
   "execution_count": 103,
   "metadata": {},
   "outputs": [
    {
     "name": "stderr",
     "output_type": "stream",
     "text": [
      "/Users/lixiang/Documents/GitHub/xzwbsrz_pre/venv/lib/python3.6/site-packages/ipykernel_launcher.py:9: UserWarning: The `nb_epoch` argument in `fit` has been renamed `epochs`.\n",
      "  if __name__ == '__main__':\n"
     ]
    },
    {
     "name": "stdout",
     "output_type": "stream",
     "text": [
      "Epoch 1/20\n",
      "10000/10000 [==============================] - 6s 641us/step - loss: 0.2801\n",
      "Epoch 2/20\n",
      "10000/10000 [==============================] - 6s 618us/step - loss: 0.2214\n",
      "Epoch 3/20\n",
      "10000/10000 [==============================] - 7s 650us/step - loss: 0.2211\n",
      "Epoch 4/20\n",
      "10000/10000 [==============================] - 6s 647us/step - loss: 0.2214\n",
      "Epoch 5/20\n",
      "10000/10000 [==============================] - 7s 655us/step - loss: 0.2212\n",
      "Epoch 6/20\n",
      "10000/10000 [==============================] - 6s 637us/step - loss: 0.2211\n",
      "Epoch 7/20\n",
      "10000/10000 [==============================] - 6s 637us/step - loss: 0.2214\n",
      "Epoch 8/20\n",
      "10000/10000 [==============================] - 7s 650us/step - loss: 0.2211\n",
      "Epoch 9/20\n",
      "10000/10000 [==============================] - 7s 659us/step - loss: 0.2211\n",
      "Epoch 10/20\n",
      "10000/10000 [==============================] - 6s 648us/step - loss: 0.2212\n",
      "Epoch 11/20\n",
      "10000/10000 [==============================] - 6s 646us/step - loss: 0.2217\n",
      "Epoch 12/20\n",
      "10000/10000 [==============================] - 6s 637us/step - loss: 0.2210\n",
      "Epoch 13/20\n",
      "10000/10000 [==============================] - 7s 650us/step - loss: 0.2212\n",
      "Epoch 14/20\n",
      "10000/10000 [==============================] - 6s 637us/step - loss: 0.2215\n",
      "Epoch 15/20\n",
      "10000/10000 [==============================] - 7s 659us/step - loss: 0.2212\n",
      "Epoch 16/20\n",
      "10000/10000 [==============================] - 6s 646us/step - loss: 0.2211\n",
      "Epoch 17/20\n",
      "10000/10000 [==============================] - 7s 689us/step - loss: 0.2211\n",
      "Epoch 18/20\n",
      "10000/10000 [==============================] - 6s 639us/step - loss: 0.2212\n",
      "Epoch 19/20\n",
      "10000/10000 [==============================] - 6s 639us/step - loss: 0.2211\n",
      "Epoch 20/20\n",
      "10000/10000 [==============================] - 6s 643us/step - loss: 0.2212\n"
     ]
    },
    {
     "data": {
      "text/plain": [
       "<keras.callbacks.callbacks.History at 0x15ee52c50>"
      ]
     },
     "execution_count": 103,
     "metadata": {},
     "output_type": "execute_result"
    }
   ],
   "source": [
    "from keras.layers.core import Masking\n",
    "X_train, X_test = x[:10000, :, :], x[800000:, :, :]\n",
    "Y2_train, Y2_test = df1.iloc[:10000, 2:3], df1.iloc[800000:, 2:3]\n",
    "model = Sequential()\n",
    "model.add(Masking(mask_value=0., input_shape=(30, 22)))\n",
    "model.add(LSTM(32))\n",
    "model.add(Dense(1))\n",
    "model.compile(loss='MSE', optimizer='adam')\n",
    "model.fit(X_train, Y2_train, nb_epoch=20)"
   ]
  },
  {
   "cell_type": "code",
   "execution_count": null,
   "metadata": {},
   "outputs": [],
   "source": []
  }
 ],
 "metadata": {
  "kernelspec": {
   "display_name": "Python 3",
   "language": "python",
   "name": "python3"
  },
  "language_info": {
   "codemirror_mode": {
    "name": "ipython",
    "version": 3
   },
   "file_extension": ".py",
   "mimetype": "text/x-python",
   "name": "python",
   "nbconvert_exporter": "python",
   "pygments_lexer": "ipython3",
   "version": "3.6.8rc1"
  }
 },
 "nbformat": 4,
 "nbformat_minor": 4
}
