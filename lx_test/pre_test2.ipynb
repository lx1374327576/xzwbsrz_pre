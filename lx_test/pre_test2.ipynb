{
 "cells": [
  {
   "cell_type": "code",
   "execution_count": 1,
   "metadata": {},
   "outputs": [],
   "source": [
    "import numpy as np\n",
    "import pandas as pd\n",
    "import tensorflow as tf\n",
    "import matplotlib.pyplot as plt\n",
    "import xgboost as xgb\n",
    "from sklearn import preprocessing"
   ]
  },
  {
   "cell_type": "code",
   "execution_count": null,
   "metadata": {},
   "outputs": [],
   "source": [
    "df1 = pd.read_csv(\"data/train_preliminary/user.csv\")\n",
    "df2 = pd.read_csv(\"data/train_preliminary/ad.csv\")\n",
    "df3 = pd.read_csv(\"data/train_preliminary/click_log.csv\")\n",
    "df_tmp = pd.merge(df3, df1, left_on='user_id', right_on='user_id')\n",
    "df = pd.merge(df_tmp, df2, left_on='creative_id', right_on='creative_id')"
   ]
  },
  {
   "cell_type": "code",
   "execution_count": null,
   "metadata": {},
   "outputs": [],
   "source": [
    "df.head()"
   ]
  },
  {
   "cell_type": "code",
   "execution_count": null,
   "metadata": {},
   "outputs": [],
   "source": [
    "order = ['user_id', 'time', 'creative_id', 'click_times', 'ad_id', 'product_category', 'advertiser_id', \n",
    "         'age', 'gender']\n",
    "df = df[order]\n",
    "df.head()"
   ]
  },
  {
   "cell_type": "code",
   "execution_count": null,
   "metadata": {},
   "outputs": [],
   "source": [
    "df.shape"
   ]
  },
  {
   "cell_type": "code",
   "execution_count": null,
   "metadata": {},
   "outputs": [],
   "source": [
    "df.describe()"
   ]
  },
  {
   "cell_type": "code",
   "execution_count": null,
   "metadata": {},
   "outputs": [],
   "source": [
    "Y = df[['user_id', 'age', 'gender']]\n",
    "Y = Y.drop_duplicates(subset=['user_id'], keep='first')\n",
    "Y = Y.sort_values('user_id')\n",
    "Y.head()"
   ]
  },
  {
   "cell_type": "code",
   "execution_count": null,
   "metadata": {},
   "outputs": [],
   "source": [
    "Y1_train, Y2_train, Y1_test, Y2_test = Y.iloc[:800000, 1:2], Y.iloc[:800000, 2:3], Y.iloc[800000:, 1:2], Y.iloc[800000:, 2:3]\n",
    "Y1_train"
   ]
  },
  {
   "cell_type": "code",
   "execution_count": null,
   "metadata": {},
   "outputs": [],
   "source": [
    "# 点击次数总和\n",
    "X = df3.groupby('user_id')['click_times'].sum()\n",
    "X"
   ]
  },
  {
   "cell_type": "code",
   "execution_count": null,
   "metadata": {},
   "outputs": [],
   "source": [
    "df[\"fre_creative_id\"] = (df.groupby(\"user_id\")[\"creative_id\"].transform(lambda x: x.value_counts().index[0]))\n",
    "X_tmp = df.drop_duplicates(subset=['user_id'],keep='first')\n",
    "X_tmp = X_tmp[['user_id', 'creative_id']]\n",
    "X = pd.merge(X, X_tmp, left_on='user_id', right_on='user_id')\n",
    "X"
   ]
  },
  {
   "cell_type": "code",
   "execution_count": null,
   "metadata": {},
   "outputs": [],
   "source": [
    "# 点击最多的类\n",
    "X = pd.merge(X, df2[['creative_id', 'product_category']], left_on='creative_id', right_on='creative_id')\n",
    "X = X.drop('creative_id', axis = 1)\n",
    "X_tmp = pd.get_dummies(X['product_category'], prefix='category')\n",
    "X = pd.concat([X.drop('product_category', axis = 1), X_tmp], axis=1)\n",
    "X = X.sort_values('user_id')\n",
    "X"
   ]
  },
  {
   "cell_type": "code",
   "execution_count": null,
   "metadata": {},
   "outputs": [],
   "source": [
    "X_ready = X.drop(['user_id'], axis = 1)\n",
    "X_ready = preprocessing.MinMaxScaler().fit_transform(X_ready)\n",
    "X_train, X_test = X_ready[:800000, :], X_ready[800000:, :]\n",
    "model1 = xgb.XGBClassifier()\n",
    "model1.fit(X_train, Y2_train)\n",
    "model1.score(X_train, Y2_train)"
   ]
  },
  {
   "cell_type": "code",
   "execution_count": null,
   "metadata": {},
   "outputs": [],
   "source": [
    "X_tmp1 = df3.groupby('user_id')['click_times'].mean()\n",
    "X_tmp2 = df3.groupby('user_id')['click_times'].std()"
   ]
  },
  {
   "cell_type": "code",
   "execution_count": null,
   "metadata": {},
   "outputs": [],
   "source": [
    "# 点击次数的平均值和集中程度\n",
    "X = pd.merge(X, X_tmp1, left_on='user_id', right_on='user_id')\n",
    "X = pd.merge(X, X_tmp2, left_on='user_id', right_on='user_id')\n",
    "X"
   ]
  },
  {
   "cell_type": "code",
   "execution_count": null,
   "metadata": {},
   "outputs": [],
   "source": [
    "X_ready = X.drop(['user_id'], axis = 1)\n",
    "X_ready = preprocessing.MinMaxScaler().fit_transform(X_ready)\n",
    "X_train, X_test = X_ready[:800000, :], X_ready[800000:, :]\n",
    "model1 = xgb.XGBClassifier()\n",
    "model1.fit(X_train, Y2_train)\n",
    "model1.score(X_train, Y2_train)"
   ]
  },
  {
   "cell_type": "code",
   "execution_count": null,
   "metadata": {},
   "outputs": [],
   "source": [
    "# 点击时间分布情况\n",
    "X_tmp = df[['user_id', 'time']].groupby('user_id')['time'].std()\n",
    "X = pd.merge(X, X_tmp, left_on='user_id', right_on='user_id')\n",
    "X"
   ]
  },
  {
   "cell_type": "code",
   "execution_count": null,
   "metadata": {},
   "outputs": [],
   "source": [
    "X_ready = X.drop(['user_id'], axis = 1)\n",
    "X_ready = preprocessing.MinMaxScaler().fit_transform(X_ready)\n",
    "X_train, X_test = X_ready[:800000, :], X_ready[800000:, :]\n",
    "model1 = xgb.XGBClassifier()\n",
    "model1.fit(X_train, Y2_train)\n",
    "model1.score(X_train, Y2_train)"
   ]
  },
  {
   "cell_type": "code",
   "execution_count": null,
   "metadata": {},
   "outputs": [],
   "source": [
    "# creave_id 以取模方式进入特征\n",
    "mo = 200\n",
    "X_tmp = df.drop_duplicates(subset=['user_id'],keep='first')\n",
    "X_tmp = X_tmp[['user_id', 'creative_id']]\n",
    "X_tmp['creative_id'] = X_tmp['creative_id'] % mo\n",
    "X_tmp"
   ]
  },
  {
   "cell_type": "code",
   "execution_count": null,
   "metadata": {},
   "outputs": [],
   "source": [
    "X_tmp = X_tmp.drop_duplicates(subset=['user_id'], keep='first')\n",
    "X_tmp = X_tmp.sort_values('user_id')\n",
    "X_tmp = pd.get_dummies(X_tmp['creative_id'], prefix='creative_id')\n",
    "X_tmp = X_tmp.reset_index(drop=True)"
   ]
  },
  {
   "cell_type": "code",
   "execution_count": null,
   "metadata": {},
   "outputs": [],
   "source": [
    "X = pd.concat([X, X_tmp], axis = 1)\n",
    "X"
   ]
  },
  {
   "cell_type": "code",
   "execution_count": null,
   "metadata": {},
   "outputs": [],
   "source": [
    "X_ready = X.drop(['user_id'], axis = 1)\n",
    "X_ready = preprocessing.MinMaxScaler().fit_transform(X_ready)\n",
    "X_train, X_test = X_ready[:800000, :], X_ready[800000:, :]\n",
    "model1 = xgb.XGBClassifier()\n",
    "model1.fit(X_train, Y2_train)\n",
    "model1.score(X_train, Y2_train)"
   ]
  }
 ],
 "metadata": {
  "kernelspec": {
   "display_name": "Python 3",
   "language": "python",
   "name": "python3"
  },
  "language_info": {
   "codemirror_mode": {
    "name": "ipython",
    "version": 3
   },
   "file_extension": ".py",
   "mimetype": "text/x-python",
   "name": "python",
   "nbconvert_exporter": "python",
   "pygments_lexer": "ipython3",
   "version": "3.6.8rc1"
  }
 },
 "nbformat": 4,
 "nbformat_minor": 4
}
