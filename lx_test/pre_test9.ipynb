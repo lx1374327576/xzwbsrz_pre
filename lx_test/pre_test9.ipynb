{
 "cells": [
  {
   "cell_type": "code",
   "execution_count": 1,
   "metadata": {},
   "outputs": [
    {
     "name": "stderr",
     "output_type": "stream",
     "text": [
      "Using TensorFlow backend.\n"
     ]
    }
   ],
   "source": [
    "import numpy as np\n",
    "import pandas as pd\n",
    "import tensorflow as tf\n",
    "import matplotlib.pyplot as plt\n",
    "import xgboost as xgb\n",
    "import csv\n",
    "from sklearn import preprocessing\n",
    "from keras.layers import LSTM, Dense\n",
    "from keras.models import Sequential\n",
    "from keras.layers.core import Masking\n",
    "from keras.layers.embeddings import Embedding"
   ]
  },
  {
   "cell_type": "code",
   "execution_count": 2,
   "metadata": {},
   "outputs": [
    {
     "name": "stdout",
     "output_type": "stream",
     "text": [
      "read success!\n"
     ]
    }
   ],
   "source": [
    "df1 = pd.read_csv(\"data/train_preliminary/user.csv\")\n",
    "df2 = pd.read_csv(\"data/train_preliminary/ad.csv\")\n",
    "df3 = pd.read_csv(\"data/train_preliminary/click_log.csv\")\n",
    "df = pd.merge(df3, df2, left_on='creative_id', right_on='creative_id')\n",
    "order = ['user_id', 'time', 'creative_id', 'click_times', 'ad_id', 'product_category', 'advertiser_id']\n",
    "df = df[order]\n",
    "df.sort_values(['user_id', 'time'], inplace=True)\n",
    "df.reset_index(drop=True, inplace=True)\n",
    "print('read success!')"
   ]
  },
  {
   "cell_type": "code",
   "execution_count": 20,
   "metadata": {},
   "outputs": [
    {
     "name": "stdout",
     "output_type": "stream",
     "text": [
      "(30082800, 1)\n",
      "300828/300828 [==============================] - 4s 12us/step\n",
      "(30082800, 1)\n",
      "300828/300828 [==============================] - 4s 13us/step\n",
      "(30082800, 1)\n",
      "300828/300828 [==============================] - 3s 9us/step\n",
      "300828/300828 [==============================] - 3s 10us/step\n",
      "prepare success!\n"
     ]
    }
   ],
   "source": [
    "x_tmp = np.array(df['creative_id'])\n",
    "x_tmp = x_tmp.reshape((-1, 1))\n",
    "x_tmp = np.vstack((x_tmp, np.zeros((29, 1))))\n",
    "print(x_tmp.shape)\n",
    "x_tmp = x_tmp.reshape((-1, 100))\n",
    "model = Sequential()\n",
    "model.add(Embedding(5000000, 5, input_length=100))\n",
    "model.compile(loss='MSE', optimizer='adam')\n",
    "y_tmp = model.predict(x_tmp, verbose=1)\n",
    "y_tmp = y_tmp.reshape((-1, 5))\n",
    "x_tmp = pd.DataFrame(y_tmp[:30082788, :], columns=['creative_id_0', 'creative_id_1', 'creative_id_2', 'creative_id_3', 'creative_id_4'])\n",
    "X = df[['user_id', 'time', 'click_times']]\n",
    "X = pd.concat([X, x_tmp], axis=1)\n",
    "x_tmp = np.array(df['ad_id'])\n",
    "x_tmp = x_tmp.reshape((-1, 1))\n",
    "x_tmp = np.vstack((x_tmp, np.zeros((29, 1))))\n",
    "print(x_tmp.shape)\n",
    "x_tmp = x_tmp.reshape((-1, 100))\n",
    "model = Sequential()\n",
    "model.add(Embedding(4000000, 5, input_length=100))\n",
    "model.compile(loss='MSE', optimizer='adam')\n",
    "y_tmp = model.predict(x_tmp, verbose=1)\n",
    "y_tmp = y_tmp.reshape((-1, 5))\n",
    "x_tmp = pd.DataFrame(y_tmp[:30082788, :], columns=['ad_id_0', 'ad_id_1', 'ad_id_2', 'ad_id_3', 'ad_id_4'])\n",
    "X = pd.concat([X, x_tmp], axis=1)\n",
    "x_tmp = np.array(df['product_category'])\n",
    "x_tmp = x_tmp.reshape((-1, 1))\n",
    "x_tmp = np.vstack((x_tmp, np.zeros((29, 1))))\n",
    "print(x_tmp.shape)\n",
    "x_tmp = x_tmp.reshape((-1, 100))\n",
    "model = Sequential()\n",
    "model.add(Embedding(20, 5, input_length=100))\n",
    "model.compile(loss='MSE', optimizer='adam')\n",
    "y_tmp = model.predict(x_tmp, verbose=1)\n",
    "y_tmp = y_tmp.reshape((-1, 5))\n",
    "x_tmp = pd.DataFrame(y_tmp[:30082788, :], columns=['product_category_0', 'product_category_1',\n",
    "                                                   'product_category_2', 'product_category_3', 'product_category_4'])\n",
    "X = pd.concat([X, x_tmp], axis=1)\n",
    "x_tmp = np.array(df['advertiser_id'])\n",
    "x_tmp = x_tmp.reshape((-1, 1))\n",
    "x_tmp = np.vstack((x_tmp, np.zeros((29, 1))))\n",
    "x_tmp = x_tmp.reshape((-1, 100))\n",
    "model = Sequential()\n",
    "model.add(Embedding(70000, 5, input_length=100))\n",
    "model.compile(loss='MSE', optimizer='adam')\n",
    "y_tmp = model.predict(x_tmp, verbose=1)\n",
    "y_tmp = y_tmp.reshape((-1, 5))\n",
    "x_tmp = pd.DataFrame(y_tmp[:30082788, :], columns=['advertiser_id_0', 'advertiser_id_1',\n",
    "                                                   'advertiser_id_2', 'advertiser_id_3', 'advertiser_id_4'])\n",
    "X = pd.concat([X, x_tmp], axis=1)\n",
    "print('prepare success!')"
   ]
  },
  {
   "cell_type": "code",
   "execution_count": 58,
   "metadata": {},
   "outputs": [
    {
     "name": "stdout",
     "output_type": "stream",
     "text": [
      "CPU times: user 6min 43s, sys: 2.14 s, total: 6min 45s\n",
      "Wall time: 6min 45s\n"
     ]
    },
    {
     "data": {
      "text/plain": [
       "array([[[ 0.        ,  0.        ,  0.        , ...,  0.        ,\n",
       "          0.        ,  0.        ],\n",
       "        [ 0.        ,  0.        ,  0.        , ...,  0.        ,\n",
       "          0.        ,  0.        ],\n",
       "        [ 0.        ,  0.        ,  0.        , ...,  0.        ,\n",
       "          0.        ,  0.        ],\n",
       "        ...,\n",
       "        [ 0.        ,  0.        ,  0.        , ...,  0.        ,\n",
       "          0.        ,  0.        ],\n",
       "        [ 0.        ,  0.        ,  0.        , ...,  0.        ,\n",
       "          0.        ,  0.        ],\n",
       "        [ 0.        ,  0.        ,  0.        , ...,  0.        ,\n",
       "          0.        ,  0.        ]],\n",
       "\n",
       "       [[ 0.        ,  0.        ,  0.        , ...,  0.        ,\n",
       "          0.        ,  0.        ],\n",
       "        [ 0.        ,  0.        ,  0.        , ...,  0.        ,\n",
       "          0.        ,  0.        ],\n",
       "        [ 0.        ,  0.        ,  0.        , ...,  0.        ,\n",
       "          0.        ,  0.        ],\n",
       "        ...,\n",
       "        [ 1.        , -0.00508491, -0.00340986, ..., -0.04878911,\n",
       "          0.0159221 ,  0.03029898],\n",
       "        [ 1.        ,  0.03182511,  0.02064136, ...,  0.03438199,\n",
       "          0.04751987, -0.01766234],\n",
       "        [ 0.        ,  0.        ,  0.        , ...,  0.        ,\n",
       "          0.        ,  0.        ]],\n",
       "\n",
       "       [[ 0.        ,  0.        ,  0.        , ...,  0.        ,\n",
       "          0.        ,  0.        ],\n",
       "        [ 0.        ,  0.        ,  0.        , ...,  0.        ,\n",
       "          0.        ,  0.        ],\n",
       "        [ 0.        ,  0.        ,  0.        , ...,  0.        ,\n",
       "          0.        ,  0.        ],\n",
       "        ...,\n",
       "        [ 0.        ,  0.        ,  0.        , ...,  0.        ,\n",
       "          0.        ,  0.        ],\n",
       "        [ 0.        ,  0.        ,  0.        , ...,  0.        ,\n",
       "          0.        ,  0.        ],\n",
       "        [ 0.        ,  0.        ,  0.        , ...,  0.        ,\n",
       "          0.        ,  0.        ]],\n",
       "\n",
       "       ...,\n",
       "\n",
       "       [[ 0.        ,  0.        ,  0.        , ...,  0.        ,\n",
       "          0.        ,  0.        ],\n",
       "        [ 0.        ,  0.        ,  0.        , ...,  0.        ,\n",
       "          0.        ,  0.        ],\n",
       "        [ 0.        ,  0.        ,  0.        , ...,  0.        ,\n",
       "          0.        ,  0.        ],\n",
       "        ...,\n",
       "        [ 0.        ,  0.        ,  0.        , ...,  0.        ,\n",
       "          0.        ,  0.        ],\n",
       "        [ 0.        ,  0.        ,  0.        , ...,  0.        ,\n",
       "          0.        ,  0.        ],\n",
       "        [ 0.        ,  0.        ,  0.        , ...,  0.        ,\n",
       "          0.        ,  0.        ]],\n",
       "\n",
       "       [[ 0.        ,  0.        ,  0.        , ...,  0.        ,\n",
       "          0.        ,  0.        ],\n",
       "        [ 0.        ,  0.        ,  0.        , ...,  0.        ,\n",
       "          0.        ,  0.        ],\n",
       "        [ 0.        ,  0.        ,  0.        , ...,  0.        ,\n",
       "          0.        ,  0.        ],\n",
       "        ...,\n",
       "        [ 0.        ,  0.        ,  0.        , ...,  0.        ,\n",
       "          0.        ,  0.        ],\n",
       "        [ 0.        ,  0.        ,  0.        , ...,  0.        ,\n",
       "          0.        ,  0.        ],\n",
       "        [ 0.        ,  0.        ,  0.        , ...,  0.        ,\n",
       "          0.        ,  0.        ]],\n",
       "\n",
       "       [[ 0.        ,  0.        ,  0.        , ...,  0.        ,\n",
       "          0.        ,  0.        ],\n",
       "        [ 0.        ,  0.        ,  0.        , ...,  0.        ,\n",
       "          0.        ,  0.        ],\n",
       "        [ 1.        , -0.03396533,  0.02782679, ...,  0.03487073,\n",
       "         -0.04017706, -0.01536989],\n",
       "        ...,\n",
       "        [ 0.        ,  0.        ,  0.        , ...,  0.        ,\n",
       "          0.        ,  0.        ],\n",
       "        [ 0.        ,  0.        ,  0.        , ...,  0.        ,\n",
       "          0.        ,  0.        ],\n",
       "        [ 0.        ,  0.        ,  0.        , ...,  0.        ,\n",
       "          0.        ,  0.        ]]])"
      ]
     },
     "execution_count": 58,
     "metadata": {},
     "output_type": "execute_result"
    }
   ],
   "source": [
    "%%time\n",
    "X_ready = X.iloc[:1000000, :]\n",
    "def check_matrix(x):\n",
    "    x_tmp = x.iloc[:,1:]\n",
    "    x_tmp = x_tmp.groupby('time').sum()\n",
    "    x_tmp = x_tmp.reset_index()\n",
    "    tmp2 = np.zeros((91, 22))\n",
    "    tmp2 = pd.DataFrame(tmp2)\n",
    "    tmp2.columns = x_tmp.columns\n",
    "    for i in range(x_tmp.shape[0]):\n",
    "        tmp2.iloc[int(x_tmp.iloc[i, 0]) - 1, :] = x_tmp.iloc[i, :]\n",
    "    return tmp2\n",
    "\n",
    "X_ready = X_ready.groupby('user_id').apply(check_matrix)\n",
    "X_ready = X_ready.reset_index(drop=True)\n",
    "X_ready = X_ready.drop('time', axis = 1)\n",
    "X_ready = np.array(X_ready).reshape((-1, 91, 21))\n",
    "X_ready"
   ]
  },
  {
   "cell_type": "code",
   "execution_count": null,
   "metadata": {},
   "outputs": [],
   "source": [
    "X.to_csv('data/train_preliminary/lstm2_5.csv')"
   ]
  }
 ],
 "metadata": {
  "kernelspec": {
   "display_name": "Python 3",
   "language": "python",
   "name": "python3"
  },
  "language_info": {
   "codemirror_mode": {
    "name": "ipython",
    "version": 3
   },
   "file_extension": ".py",
   "mimetype": "text/x-python",
   "name": "python",
   "nbconvert_exporter": "python",
   "pygments_lexer": "ipython3",
   "version": "3.6.8rc1"
  }
 },
 "nbformat": 4,
 "nbformat_minor": 4
}
