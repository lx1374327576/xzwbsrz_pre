{
 "cells": [
  {
   "cell_type": "code",
   "execution_count": 1,
   "metadata": {},
   "outputs": [
    {
     "name": "stderr",
     "output_type": "stream",
     "text": [
      "Using TensorFlow backend.\n"
     ]
    }
   ],
   "source": [
    "import numpy as np\n",
    "import pandas as pd\n",
    "import tensorflow as tf\n",
    "import matplotlib.pyplot as plt\n",
    "import xgboost as xgb\n",
    "import csv\n",
    "from sklearn import preprocessing\n",
    "from keras.layers import LSTM, Dense\n",
    "from keras.models import Sequential\n",
    "from keras.layers.core import Masking\n",
    "from keras.layers.embeddings import Embedding"
   ]
  },
  {
   "cell_type": "code",
   "execution_count": 2,
   "metadata": {},
   "outputs": [
    {
     "name": "stdout",
     "output_type": "stream",
     "text": [
      "read success!\n"
     ]
    }
   ],
   "source": [
    "df1 = pd.read_csv(\"data/train_preliminary/user.csv\")\n",
    "df2 = pd.read_csv(\"data/train_preliminary/ad.csv\")\n",
    "df3 = pd.read_csv(\"data/train_preliminary/click_log.csv\")\n",
    "df = pd.merge(df3, df2, left_on='creative_id', right_on='creative_id')\n",
    "order = ['user_id', 'time', 'creative_id', 'click_times', 'ad_id', 'product_category', 'advertiser_id']\n",
    "df = df[order]\n",
    "df.sort_values(['user_id', 'time'], inplace=True)\n",
    "df.reset_index(drop=True, inplace=True)\n",
    "print('read success!')"
   ]
  },
  {
   "cell_type": "code",
   "execution_count": 20,
   "metadata": {},
   "outputs": [
    {
     "name": "stdout",
     "output_type": "stream",
     "text": [
      "(30082800, 1)\n",
      "300828/300828 [==============================] - 4s 12us/step\n",
      "(30082800, 1)\n",
      "300828/300828 [==============================] - 4s 13us/step\n",
      "(30082800, 1)\n",
      "300828/300828 [==============================] - 3s 9us/step\n",
      "300828/300828 [==============================] - 3s 10us/step\n",
      "prepare success!\n"
     ]
    }
   ],
   "source": [
    "x_tmp = np.array(df['creative_id'])\n",
    "x_tmp = x_tmp.reshape((-1, 1))\n",
    "x_tmp = np.vstack((x_tmp, np.zeros((29, 1))))\n",
    "print(x_tmp.shape)\n",
    "x_tmp = x_tmp.reshape((-1, 100))\n",
    "model = Sequential()\n",
    "model.add(Embedding(5000000, 5, input_length=100))\n",
    "model.compile(loss='MSE', optimizer='adam')\n",
    "y_tmp = model.predict(x_tmp, verbose=1)\n",
    "y_tmp = y_tmp.reshape((-1, 5))\n",
    "x_tmp = pd.DataFrame(y_tmp[:30082788, :], columns=['creative_id_0', 'creative_id_1', 'creative_id_2', 'creative_id_3', 'creative_id_4'])\n",
    "X = df[['user_id', 'time', 'click_times']]\n",
    "X = pd.concat([X, x_tmp], axis=1)\n",
    "x_tmp = np.array(df['ad_id'])\n",
    "x_tmp = x_tmp.reshape((-1, 1))\n",
    "x_tmp = np.vstack((x_tmp, np.zeros((29, 1))))\n",
    "print(x_tmp.shape)\n",
    "x_tmp = x_tmp.reshape((-1, 100))\n",
    "model = Sequential()\n",
    "model.add(Embedding(4000000, 5, input_length=100))\n",
    "model.compile(loss='MSE', optimizer='adam')\n",
    "y_tmp = model.predict(x_tmp, verbose=1)\n",
    "y_tmp = y_tmp.reshape((-1, 5))\n",
    "x_tmp = pd.DataFrame(y_tmp[:30082788, :], columns=['ad_id_0', 'ad_id_1', 'ad_id_2', 'ad_id_3', 'ad_id_4'])\n",
    "X = pd.concat([X, x_tmp], axis=1)\n",
    "x_tmp = np.array(df['product_category'])\n",
    "x_tmp = x_tmp.reshape((-1, 1))\n",
    "x_tmp = np.vstack((x_tmp, np.zeros((29, 1))))\n",
    "print(x_tmp.shape)\n",
    "x_tmp = x_tmp.reshape((-1, 100))\n",
    "model = Sequential()\n",
    "model.add(Embedding(20, 5, input_length=100))\n",
    "model.compile(loss='MSE', optimizer='adam')\n",
    "y_tmp = model.predict(x_tmp, verbose=1)\n",
    "y_tmp = y_tmp.reshape((-1, 5))\n",
    "x_tmp = pd.DataFrame(y_tmp[:30082788, :], columns=['product_category_0', 'product_category_1',\n",
    "                                                   'product_category_2', 'product_category_3', 'product_category_4'])\n",
    "X = pd.concat([X, x_tmp], axis=1)\n",
    "x_tmp = np.array(df['advertiser_id'])\n",
    "x_tmp = x_tmp.reshape((-1, 1))\n",
    "x_tmp = np.vstack((x_tmp, np.zeros((29, 1))))\n",
    "x_tmp = x_tmp.reshape((-1, 100))\n",
    "model = Sequential()\n",
    "model.add(Embedding(70000, 5, input_length=100))\n",
    "model.compile(loss='MSE', optimizer='adam')\n",
    "y_tmp = model.predict(x_tmp, verbose=1)\n",
    "y_tmp = y_tmp.reshape((-1, 5))\n",
    "x_tmp = pd.DataFrame(y_tmp[:30082788, :], columns=['advertiser_id_0', 'advertiser_id_1',\n",
    "                                                   'advertiser_id_2', 'advertiser_id_3', 'advertiser_id_4'])\n",
    "X = pd.concat([X, x_tmp], axis=1)\n",
    "print('prepare success!')"
   ]
  },
  {
   "cell_type": "code",
   "execution_count": 59,
   "metadata": {},
   "outputs": [
    {
     "name": "stdout",
     "output_type": "stream",
     "text": [
      "CPU times: user 2h 52min 5s, sys: 3min, total: 2h 55min 5s\n",
      "Wall time: 2h 55min 56s\n"
     ]
    }
   ],
   "source": [
    "%%time\n",
    "def check_matrix(x):\n",
    "    x_tmp = x.iloc[:,1:]\n",
    "    x_tmp = x_tmp.groupby('time').sum()\n",
    "    x_tmp = x_tmp.reset_index()\n",
    "    tmp2 = np.zeros((91, 22))\n",
    "    tmp2 = pd.DataFrame(tmp2)\n",
    "    tmp2.columns = x_tmp.columns\n",
    "    for i in range(x_tmp.shape[0]):\n",
    "        tmp2.iloc[int(x_tmp.iloc[i, 0]) - 1, :] = x_tmp.iloc[i, :]\n",
    "    return tmp2\n",
    "\n",
    "X = X.groupby('user_id').apply(check_matrix)\n",
    "X = X.reset_index(drop=True)\n",
    "X = X.drop('time', axis = 1)\n",
    "X = np.array(X).reshape((-1, 91, 21))"
   ]
  },
  {
   "cell_type": "code",
   "execution_count": 63,
   "metadata": {},
   "outputs": [],
   "source": [
    "# X_ready = pd.DataFrame(X.reshape(-1, 21))"
   ]
  },
  {
   "cell_type": "code",
   "execution_count": 64,
   "metadata": {},
   "outputs": [],
   "source": [
    "# X_ready.to_csv('data/train_preliminary/lstm2_5_straightsum.csv')"
   ]
  },
  {
   "cell_type": "code",
   "execution_count": 70,
   "metadata": {},
   "outputs": [
    {
     "name": "stdout",
     "output_type": "stream",
     "text": [
      "Epoch 1/20\n",
      "10000/10000 [==============================] - 22s 2ms/step - loss: 0.2696\n",
      "Epoch 2/20\n",
      "10000/10000 [==============================] - 20s 2ms/step - loss: 0.2220\n",
      "Epoch 3/20\n",
      "10000/10000 [==============================] - 20s 2ms/step - loss: 0.2217\n",
      "Epoch 4/20\n",
      "10000/10000 [==============================] - 20s 2ms/step - loss: 0.2213\n",
      "Epoch 5/20\n",
      "10000/10000 [==============================] - 20s 2ms/step - loss: 0.2198\n",
      "Epoch 6/20\n",
      "10000/10000 [==============================] - 20s 2ms/step - loss: 0.2196\n",
      "Epoch 7/20\n",
      "10000/10000 [==============================] - 20s 2ms/step - loss: 0.2198\n",
      "Epoch 8/20\n",
      "10000/10000 [==============================] - 20s 2ms/step - loss: 0.2203\n",
      "Epoch 9/20\n",
      "10000/10000 [==============================] - 20s 2ms/step - loss: 0.2195\n",
      "Epoch 10/20\n",
      "10000/10000 [==============================] - 20s 2ms/step - loss: 0.2185\n",
      "Epoch 11/20\n",
      "10000/10000 [==============================] - 20s 2ms/step - loss: 0.2185\n",
      "Epoch 12/20\n",
      "10000/10000 [==============================] - 21s 2ms/step - loss: 0.2186\n",
      "Epoch 13/20\n",
      "10000/10000 [==============================] - 20s 2ms/step - loss: 0.2169\n",
      "Epoch 14/20\n",
      "10000/10000 [==============================] - 21s 2ms/step - loss: 0.2177\n",
      "Epoch 15/20\n",
      "10000/10000 [==============================] - 21s 2ms/step - loss: 0.2176\n",
      "Epoch 16/20\n",
      "10000/10000 [==============================] - 21s 2ms/step - loss: 0.2172\n",
      "Epoch 17/20\n",
      "10000/10000 [==============================] - 21s 2ms/step - loss: 0.2165\n",
      "Epoch 18/20\n",
      "10000/10000 [==============================] - 20s 2ms/step - loss: 0.2168\n",
      "Epoch 19/20\n",
      "10000/10000 [==============================] - 20s 2ms/step - loss: 0.2162\n",
      "Epoch 20/20\n",
      "10000/10000 [==============================] - 20s 2ms/step - loss: 0.2160\n"
     ]
    },
    {
     "data": {
      "text/plain": [
       "<keras.callbacks.callbacks.History at 0x1477584a8>"
      ]
     },
     "execution_count": 70,
     "metadata": {},
     "output_type": "execute_result"
    }
   ],
   "source": [
    "item_num = 10000\n",
    "X_train, X_test = X[:item_num, :, :], X[800000:, :, :]\n",
    "Y2_train, Y2_test = df1.iloc[:item_num, 2:3], df1.iloc[800000:, 2:3]\n",
    "model = Sequential()\n",
    "model.add(Masking(mask_value=0., input_shape=(91, 21)))\n",
    "model.add(LSTM(32))\n",
    "model.add(Dense(20))\n",
    "model.add(Dense(1))\n",
    "model.compile(loss='MSE', optimizer='adam')\n",
    "model.fit(X_train, Y2_train, epochs=20, use_multiprocessing=True, workers=4, shuffle=True)"
   ]
  },
  {
   "cell_type": "code",
   "execution_count": 73,
   "metadata": {},
   "outputs": [
    {
     "name": "stdout",
     "output_type": "stream",
     "text": [
      "accurency: 0.67229\n"
     ]
    }
   ],
   "source": [
    "Y_predict = model.predict(X_test)\n",
    "Y_predict = np.round(Y_predict)\n",
    "ans = 0\n",
    "for i in range(100000):\n",
    "    if Y_predict[i] == Y2_test.iloc[i, 0]:\n",
    "        ans += 1\n",
    "print('accurency:', ans/100000)"
   ]
  },
  {
   "cell_type": "code",
   "execution_count": 92,
   "metadata": {},
   "outputs": [
    {
     "data": {
      "text/plain": [
       "0        0\n",
       "1        0\n",
       "2        0\n",
       "3        0\n",
       "4        0\n",
       "        ..\n",
       "99995    1\n",
       "99996    0\n",
       "99997    0\n",
       "99998    0\n",
       "99999    0\n",
       "Name: 3, Length: 100000, dtype: uint8"
      ]
     },
     "execution_count": 92,
     "metadata": {},
     "output_type": "execute_result"
    }
   ],
   "source": [
    "item_num = 100000\n",
    "X_train, X_test = X[:item_num, :, :], X[800000:, :, :]\n",
    "Y2_train, Y2_test = df1.iloc[:item_num, 1:2], df1.iloc[800000:, 1:2]\n",
    "Y2_train = pd.get_dummies(Y2_train['age'])\n",
    "Y2_train = Y2_train.iloc[:,2]\n",
    "Y2_train"
   ]
  },
  {
   "cell_type": "code",
   "execution_count": 93,
   "metadata": {},
   "outputs": [
    {
     "name": "stdout",
     "output_type": "stream",
     "text": [
      "Epoch 1/10\n",
      "100000/100000 [==============================] - 213s 2ms/step - loss: 0.1745\n",
      "Epoch 2/10\n",
      "100000/100000 [==============================] - 215s 2ms/step - loss: 0.1737\n",
      "Epoch 3/10\n",
      "100000/100000 [==============================] - 215s 2ms/step - loss: 0.1734\n",
      "Epoch 4/10\n",
      "100000/100000 [==============================] - 213s 2ms/step - loss: 0.1732\n",
      "Epoch 5/10\n",
      "100000/100000 [==============================] - 215s 2ms/step - loss: 0.1731\n",
      "Epoch 6/10\n",
      "100000/100000 [==============================] - 213s 2ms/step - loss: 0.1729\n",
      "Epoch 7/10\n",
      "100000/100000 [==============================] - 213s 2ms/step - loss: 0.1728\n",
      "Epoch 8/10\n",
      "100000/100000 [==============================] - 216s 2ms/step - loss: 0.1728\n",
      "Epoch 9/10\n",
      "100000/100000 [==============================] - 213s 2ms/step - loss: 0.1727\n",
      "Epoch 10/10\n",
      "100000/100000 [==============================] - 213s 2ms/step - loss: 0.1726\n"
     ]
    },
    {
     "data": {
      "text/plain": [
       "<keras.callbacks.callbacks.History at 0x149dbe860>"
      ]
     },
     "execution_count": 93,
     "metadata": {},
     "output_type": "execute_result"
    }
   ],
   "source": [
    "model2 = Sequential()\n",
    "model2.add(Masking(mask_value=0., input_shape=(91, 21)))\n",
    "model2.add(LSTM(32))\n",
    "model2.add(Dense(20))\n",
    "model2.add(Dense(1))\n",
    "model2.compile(loss='MSE', optimizer='adam')\n",
    "model2.fit(X_train, Y2_train, epochs=10, use_multiprocessing=True, workers=4, shuffle=True)"
   ]
  },
  {
   "cell_type": "code",
   "execution_count": 94,
   "metadata": {},
   "outputs": [],
   "source": [
    "Y_predict = model2.predict(X_train)\n",
    "Y_predict = np.round(Y_predict)"
   ]
  },
  {
   "cell_type": "code",
   "execution_count": 95,
   "metadata": {},
   "outputs": [
    {
     "name": "stdout",
     "output_type": "stream",
     "text": [
      "accurency: 0.77551\n"
     ]
    }
   ],
   "source": [
    "ans = 0\n",
    "for i in range(item_num):\n",
    "    if Y_predict[i] == Y2_train.iloc[i]:\n",
    "        ans += 1\n",
    "print('accurency:', ans/item_num)"
   ]
  },
  {
   "cell_type": "code",
   "execution_count": null,
   "metadata": {},
   "outputs": [],
   "source": []
  }
 ],
 "metadata": {
  "kernelspec": {
   "display_name": "Python 3",
   "language": "python",
   "name": "python3"
  },
  "language_info": {
   "codemirror_mode": {
    "name": "ipython",
    "version": 3
   },
   "file_extension": ".py",
   "mimetype": "text/x-python",
   "name": "python",
   "nbconvert_exporter": "python",
   "pygments_lexer": "ipython3",
   "version": "3.6.8rc1"
  }
 },
 "nbformat": 4,
 "nbformat_minor": 4
}
