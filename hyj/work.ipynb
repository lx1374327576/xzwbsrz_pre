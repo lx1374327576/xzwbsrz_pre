{
 "cells": [
  {
   "cell_type": "markdown",
   "metadata": {
    "collapsed": false
   },
   "source": [
    "请点击[此处](https://ai.baidu.com/docs#/AIStudio_Project_Notebook/a38e5576)查看本环境基本用法.  <br>\n",
    "Please click [here ](https://ai.baidu.com/docs#/AIStudio_Project_Notebook/a38e5576) for more detailed instructions. "
   ]
  },
  {
   "cell_type": "markdown",
   "metadata": {
    "collapsed": false
   },
   "source": [
    "# 保留区"
   ]
  },
  {
   "cell_type": "code",
   "execution_count": null,
   "metadata": {
    "collapsed": true
   },
   "outputs": [
    {
     "name": "stdout",
     "output_type": "stream",
     "text": [
      "--2020-05-28 13:34:00--  https://tesla-ap-shanghai-1256322946.cos.ap-shanghai.myqcloud.com/cephfs/tesla_common/deeplearning/dataset/algo_contest/test.zip\n",
      "Resolving tesla-ap-shanghai-1256322946.cos.ap-shanghai.myqcloud.com (tesla-ap-shanghai-1256322946.cos.ap-shanghai.myqcloud.com)... 58.217.230.63, 58.217.230.58, 58.217.230.57, ...\n",
      "Connecting to tesla-ap-shanghai-1256322946.cos.ap-shanghai.myqcloud.com (tesla-ap-shanghai-1256322946.cos.ap-shanghai.myqcloud.com)|58.217.230.63|:443... connected.\n",
      "HTTP request sent, awaiting response... 200 OK\n",
      "Length: 226566169 (216M) [application/zip]\n",
      "Saving to: ‘test.zip.3’\n",
      "\n",
      "test.zip.3          100%[===================>] 216.07M  11.5MB/s    in 27s     \n",
      "\n",
      "2020-05-28 13:34:27 (8.10 MB/s) - ‘test.zip.3’ saved [226566169/226566169]\n",
      "\n",
      "--2020-05-28 13:34:28--  https://tesla-ap-shanghai-1256322946.cos.ap-shanghai.myqcloud.com/cephfs/tesla_common/deeplearning/dataset/algo_contest/train_preliminary.zip\n",
      "Resolving tesla-ap-shanghai-1256322946.cos.ap-shanghai.myqcloud.com (tesla-ap-shanghai-1256322946.cos.ap-shanghai.myqcloud.com)... 58.217.230.57, 58.217.230.21, 58.217.230.42, ...\n",
      "Connecting to tesla-ap-shanghai-1256322946.cos.ap-shanghai.myqcloud.com (tesla-ap-shanghai-1256322946.cos.ap-shanghai.myqcloud.com)|58.217.230.57|:443... connected.\n",
      "HTTP request sent, awaiting response... 200 OK\n",
      "Length: 205581736 (196M) [application/zip]\n",
      "Saving to: ‘train_preliminary.zip.3’\n",
      "\n",
      "train_preliminary.z 100%[===================>] 196.06M  21.0MB/s    in 26s     \n",
      "\n",
      "2020-05-28 13:34:54 (7.52 MB/s) - ‘train_preliminary.zip.3’ saved [205581736/205581736]\n",
      "\n",
      "Archive:  train_preliminary.zip\n",
      "   creating: /home/aistudio/data/train_preliminary/\n",
      "  inflating: /home/aistudio/data/train_preliminary/ad.csv  \n",
      "  inflating: /home/aistudio/data/train_preliminary/click_log.csv  \n",
      "  inflating: /home/aistudio/data/train_preliminary/user.csv  \n",
      "  inflating: /home/aistudio/data/train_preliminary/README  \n"
     ]
    }
   ],
   "source": [
    "# 下载数据集并解压\r\n",
    "!wget https://tesla-ap-shanghai-1256322946.cos.ap-shanghai.myqcloud.com/cephfs/tesla_common/deeplearning/dataset/algo_contest/test.zip \r\n",
    "!wget https://tesla-ap-shanghai-1256322946.cos.ap-shanghai.myqcloud.com/cephfs/tesla_common/deeplearning/dataset/algo_contest/train_preliminary.zip \r\n",
    "!unzip train_preliminary.zip -d /home/aistudio/datasets/ "
   ]
  },
  {
   "cell_type": "markdown",
   "metadata": {
    "collapsed": false
   },
   "source": [
    "变量名说明\n",
    "all_ad,all_click,all_user\n",
    "mini_ad,mini_click,mini_user"
   ]
  },
  {
   "cell_type": "markdown",
   "metadata": {
    "collapsed": false
   },
   "source": [
    "环境准备\n",
    "gensim -> word2vec\n",
    "pandas,numpy -> data\n",
    "matplotlib -> view\n"
   ]
  },
  {
   "cell_type": "code",
   "execution_count": null,
   "metadata": {},
   "outputs": [],
   "source": [
    "环境准备\n",
    "!pip install gensim\n",
    "!pip install matplotlib"
   ]
  },
  {
   "cell_type": "code",
   "execution_count": null,
   "metadata": {
    "collapsed": true
   },
   "outputs": [
    {
     "name": "stdout",
     "output_type": "stream",
     "text": [
      "max user_id         : 900000\n",
      "max creative_id     : 4445718\n",
      "max ad_id           : 3812200\n",
      "max product_id      : 9999\n",
      "max product_category: 18\n",
      "max advertiser_id   : 62965\n",
      "max industry        : 99\n"
     ]
    }
   ],
   "source": [
    "# 切分出调试用的小数据\r\n",
    "import pandas as pd\r\n",
    "import numpy as np\r\n",
    "\r\n",
    "foldername = \"/home/aistudio/datasets/train_preliminary/\"\r\n",
    "def load_csv(filename):\r\n",
    "    return pd.read_csv(filename)\r\n",
    "\r\n",
    "all_click = load_csv(foldername + \"click_log.csv\")\r\n",
    "all_click.head()\r\n",
    "print(\"max user_id         :\",all_click.loc[:,\"user_id\"].max())\r\n",
    "print(\"max creative_id     :\",all_click.loc[:,\"creative_id\"].max())\r\n",
    "\r\n",
    "limit_user_id = 9000\r\n",
    "limit_create_id = 40000\r\n",
    "\r\n",
    "mini_click = all_click.loc[(all_click.creative_id < limit_create_id) & (all_click.user_id < limit_user_id)]\r\n",
    "mini_click.to_csv(foldername + \"click_log_mini.csv\",index=0)\r\n",
    "\r\n",
    "all_user = load_csv(foldername + \"user.csv\")\r\n",
    "mini_user = all_user.loc[all_user.user_id < limit_user_id]\r\n",
    "mini_user.to_csv(foldername + \"user_mini.csv\")\r\n",
    "\r\n",
    "all_ad = load_csv(foldername + \"ad.csv\")\r\n",
    "print(\"max ad_id           :\",all_ad.loc[:,\"ad_id\"].max())\r\n",
    "print(\"max product_id      :\",(all_ad[all_ad[\"product_id\"]!=\"\\\\N\"]).loc[:,\"product_id\"].max())\r\n",
    "print(\"max product_category:\",all_ad.loc[:,\"product_category\"].max())\r\n",
    "print(\"max advertiser_id   :\",all_ad.loc[:,\"advertiser_id\"].max())\r\n",
    "print(\"max industry        :\",(all_ad[all_ad[\"industry\"]!=\"\\\\N\"]).loc[:,\"industry\"].max())\r\n",
    "mini_ad = all_ad.loc[all_ad.creative_id < limit_create_id]\r\n",
    "mini_ad.to_csv(foldername + \"ad_mini.csv\")\r\n"
   ]
  },
  {
   "cell_type": "code",
   "execution_count": null,
   "metadata": {
    "collapsed": false
   },
   "outputs": [
    {
     "name": "stdout",
     "output_type": "stream",
     "text": [
      "30082772 /home/aistudio/datasets/train_preliminary/click_log.csv\n",
      "900001 /home/aistudio/datasets/train_preliminary/user.csv\n",
      "2481136 /home/aistudio/datasets/train_preliminary/ad.csv\n"
     ]
    }
   ],
   "source": [
    "# 每个数据文件describe,行数的统计\r\n",
    "!wc -l \"/home/aistudio/datasets/train_preliminary/click_log.csv\"\r\n",
    "!wc -l \"/home/aistudio/datasets/train_preliminary/user.csv\"\r\n",
    "!wc -l \"/home/aistudio/datasets/train_preliminary/ad.csv\"\r\n",
    "\r\n",
    "import pandas as pd\r\n",
    "import numpy as np\r\n",
    "from tqdm import tqdm\r\n",
    "import random\r\n",
    "\r\n",
    "foldername = \"/home/aistudio/datasets/train_preliminary/\"\r\n",
    "def load_csv(filename):\r\n",
    "    return pd.read_csv(filename)\r\n",
    "\r\n",
    "all_click = load_csv(foldername + \"click_log.csv\")\r\n",
    "all_user = load_csv(foldername + \"user.csv\")\r\n",
    "all_ad = load_csv(foldername + \"ad.csv\")\r\n",
    "# print(all_click.describe())\r\n",
    "# print(all_user.describe())\r\n",
    "# print(all_ad.describe())\r\n"
   ]
  },
  {
   "cell_type": "code",
   "execution_count": null,
   "metadata": {
    "collapsed": false
   },
   "outputs": [],
   "source": [
    "# 每个数据文件mini_describe\r\n",
    "\r\n",
    "import pandas as pd\r\n",
    "import numpy as np\r\n",
    "from tqdm import tqdm\r\n",
    "import random\r\n",
    "\r\n",
    "foldername = \"/home/aistudio/datasets/train_preliminary/\"\r\n",
    "def load_csv(filename):\r\n",
    "    return pd.read_csv(filename)\r\n",
    "\r\n",
    "mini_click = load_csv(foldername + \"click_log_mini.csv\")\r\n",
    "mini_user = load_csv(foldername + \"user_mini.csv\")\r\n",
    "mini_ad = load_csv(foldername + \"ad_mini.csv\")"
   ]
  },
  {
   "cell_type": "code",
   "execution_count": null,
   "metadata": {
    "collapsed": false
   },
   "outputs": [
    {
     "data": {
      "text/html": [
       "<div>\n",
       "<style scoped>\n",
       "    .dataframe tbody tr th:only-of-type {\n",
       "        vertical-align: middle;\n",
       "    }\n",
       "\n",
       "    .dataframe tbody tr th {\n",
       "        vertical-align: top;\n",
       "    }\n",
       "\n",
       "    .dataframe thead th {\n",
       "        text-align: right;\n",
       "    }\n",
       "</style>\n",
       "<table border=\"1\" class=\"dataframe\">\n",
       "  <thead>\n",
       "    <tr style=\"text-align: right;\">\n",
       "      <th></th>\n",
       "      <th>user_id</th>\n",
       "      <th>age</th>\n",
       "      <th>gender</th>\n",
       "    </tr>\n",
       "  </thead>\n",
       "  <tbody>\n",
       "    <tr>\n",
       "      <th>count</th>\n",
       "      <td>900000.0</td>\n",
       "      <td>900000.0</td>\n",
       "      <td>900000.0</td>\n",
       "    </tr>\n",
       "    <tr>\n",
       "      <th>mean</th>\n",
       "      <td>450000.5</td>\n",
       "      <td>4.2</td>\n",
       "      <td>1.3</td>\n",
       "    </tr>\n",
       "    <tr>\n",
       "      <th>std</th>\n",
       "      <td>259807.8</td>\n",
       "      <td>2.0</td>\n",
       "      <td>0.5</td>\n",
       "    </tr>\n",
       "    <tr>\n",
       "      <th>min</th>\n",
       "      <td>1.0</td>\n",
       "      <td>1.0</td>\n",
       "      <td>1.0</td>\n",
       "    </tr>\n",
       "    <tr>\n",
       "      <th>25%</th>\n",
       "      <td>225000.8</td>\n",
       "      <td>3.0</td>\n",
       "      <td>1.0</td>\n",
       "    </tr>\n",
       "    <tr>\n",
       "      <th>50%</th>\n",
       "      <td>450000.5</td>\n",
       "      <td>4.0</td>\n",
       "      <td>1.0</td>\n",
       "    </tr>\n",
       "    <tr>\n",
       "      <th>75%</th>\n",
       "      <td>675000.2</td>\n",
       "      <td>6.0</td>\n",
       "      <td>2.0</td>\n",
       "    </tr>\n",
       "    <tr>\n",
       "      <th>max</th>\n",
       "      <td>900000.0</td>\n",
       "      <td>10.0</td>\n",
       "      <td>2.0</td>\n",
       "    </tr>\n",
       "  </tbody>\n",
       "</table>\n",
       "</div>"
      ],
      "text/plain": [
       "        user_id       age    gender\n",
       "count  900000.0  900000.0  900000.0\n",
       "mean   450000.5       4.2       1.3\n",
       "std    259807.8       2.0       0.5\n",
       "min         1.0       1.0       1.0\n",
       "25%    225000.8       3.0       1.0\n",
       "50%    450000.5       4.0       1.0\n",
       "75%    675000.2       6.0       2.0\n",
       "max    900000.0      10.0       2.0"
      ]
     },
     "execution_count": null,
     "metadata": {},
     "output_type": "execute_result"
    }
   ],
   "source": [
    "# 用户describe\r\n",
    "all_user.describe().round(1)"
   ]
  },
  {
   "cell_type": "code",
   "execution_count": null,
   "metadata": {
    "collapsed": true
   },
   "outputs": [
    {
     "data": {
      "image/png": "[encoded data removed]",
      "text/plain": [
       "<Figure size 432x288 with 1 Axes>"
      ]
     },
     "metadata": {},
     "output_type": "display_data"
    },
    {
     "data": {
      "image/png": "[encoded data removed]",
      "text/plain": [
       "<Figure size 432x288 with 1 Axes>"
      ]
     },
     "metadata": {},
     "output_type": "display_data"
    }
   ],
   "source": [
    "## 统计不同年龄、性别的用户数量\r\n",
    "import pandas as pd\r\n",
    "import numpy as np\r\n",
    "from tqdm import tqdm\r\n",
    "import random\r\n",
    "import matplotlib.pyplot as plt\r\n",
    "\r\n",
    "\r\n",
    "foldername = \"/home/aistudio/datasets/train_preliminary/\"\r\n",
    "def load_csv(filename):\r\n",
    "    return pd.read_csv(filename)\r\n",
    "\r\n",
    "users = load_csv(foldername + \"user.csv\")\r\n",
    "users_age = users['age'].value_counts().sort_index()\r\n",
    "users_age.plot(kind='bar',title=\"Age\")\r\n",
    "plt.show()\r\n",
    "\r\n",
    "users_gender = users['gender'].value_counts().sort_index()\r\n",
    "users_gender.plot(kind='pie',autopct='%1.1f%%',title=\"Gender\")\r\n",
    "plt.axis('equal')\r\n",
    "plt.show()"
   ]
  },
  {
   "cell_type": "code",
   "execution_count": null,
   "metadata": {
    "collapsed": false
   },
   "outputs": [
    {
     "data": {
      "text/html": [
       "<div>\n",
       "<style scoped>\n",
       "    .dataframe tbody tr th:only-of-type {\n",
       "        vertical-align: middle;\n",
       "    }\n",
       "\n",
       "    .dataframe tbody tr th {\n",
       "        vertical-align: top;\n",
       "    }\n",
       "\n",
       "    .dataframe thead th {\n",
       "        text-align: right;\n",
       "    }\n",
       "</style>\n",
       "<table border=\"1\" class=\"dataframe\">\n",
       "  <thead>\n",
       "    <tr style=\"text-align: right;\">\n",
       "      <th></th>\n",
       "      <th>creative_id</th>\n",
       "      <th>ad_id</th>\n",
       "      <th>product_category</th>\n",
       "      <th>advertiser_id</th>\n",
       "    </tr>\n",
       "  </thead>\n",
       "  <tbody>\n",
       "    <tr>\n",
       "      <th>count</th>\n",
       "      <td>2481135.0</td>\n",
       "      <td>2481135.0</td>\n",
       "      <td>2481135.0</td>\n",
       "      <td>2481135.0</td>\n",
       "    </tr>\n",
       "    <tr>\n",
       "      <th>mean</th>\n",
       "      <td>2192007.8</td>\n",
       "      <td>1888106.6</td>\n",
       "      <td>7.8</td>\n",
       "      <td>27416.2</td>\n",
       "    </tr>\n",
       "    <tr>\n",
       "      <th>std</th>\n",
       "      <td>1285497.2</td>\n",
       "      <td>1099763.5</td>\n",
       "      <td>6.8</td>\n",
       "      <td>15346.3</td>\n",
       "    </tr>\n",
       "    <tr>\n",
       "      <th>min</th>\n",
       "      <td>1.0</td>\n",
       "      <td>1.0</td>\n",
       "      <td>1.0</td>\n",
       "      <td>2.0</td>\n",
       "    </tr>\n",
       "    <tr>\n",
       "      <th>25%</th>\n",
       "      <td>1076369.5</td>\n",
       "      <td>939192.5</td>\n",
       "      <td>2.0</td>\n",
       "      <td>14974.0</td>\n",
       "    </tr>\n",
       "    <tr>\n",
       "      <th>50%</th>\n",
       "      <td>2191948.0</td>\n",
       "      <td>1889017.0</td>\n",
       "      <td>5.0</td>\n",
       "      <td>25197.0</td>\n",
       "    </tr>\n",
       "    <tr>\n",
       "      <th>75%</th>\n",
       "      <td>3304419.5</td>\n",
       "      <td>2839458.0</td>\n",
       "      <td>18.0</td>\n",
       "      <td>38254.0</td>\n",
       "    </tr>\n",
       "    <tr>\n",
       "      <th>max</th>\n",
       "      <td>4445718.0</td>\n",
       "      <td>3812200.0</td>\n",
       "      <td>18.0</td>\n",
       "      <td>62965.0</td>\n",
       "    </tr>\n",
       "  </tbody>\n",
       "</table>\n",
       "</div>"
      ],
      "text/plain": [
       "       creative_id      ad_id  product_category  advertiser_id\n",
       "count    2481135.0  2481135.0         2481135.0      2481135.0\n",
       "mean     2192007.8  1888106.6               7.8        27416.2\n",
       "std      1285497.2  1099763.5               6.8        15346.3\n",
       "min            1.0        1.0               1.0            2.0\n",
       "25%      1076369.5   939192.5               2.0        14974.0\n",
       "50%      2191948.0  1889017.0               5.0        25197.0\n",
       "75%      3304419.5  2839458.0              18.0        38254.0\n",
       "max      4445718.0  3812200.0              18.0        62965.0"
      ]
     },
     "execution_count": null,
     "metadata": {},
     "output_type": "execute_result"
    }
   ],
   "source": [
    "# 广告describe\r\n",
    "all_ad.describe().round(1)\r\n"
   ]
  },
  {
   "cell_type": "code",
   "execution_count": null,
   "metadata": {
    "collapsed": true
   },
   "outputs": [
    {
     "data": {
      "text/html": [
       "<div>\n",
       "<style scoped>\n",
       "    .dataframe tbody tr th:only-of-type {\n",
       "        vertical-align: middle;\n",
       "    }\n",
       "\n",
       "    .dataframe tbody tr th {\n",
       "        vertical-align: top;\n",
       "    }\n",
       "\n",
       "    .dataframe thead th {\n",
       "        text-align: right;\n",
       "    }\n",
       "</style>\n",
       "<table border=\"1\" class=\"dataframe\">\n",
       "  <thead>\n",
       "    <tr style=\"text-align: right;\">\n",
       "      <th></th>\n",
       "      <th>time</th>\n",
       "      <th>user_id</th>\n",
       "      <th>creative_id</th>\n",
       "      <th>click_times</th>\n",
       "    </tr>\n",
       "  </thead>\n",
       "  <tbody>\n",
       "    <tr>\n",
       "      <th>count</th>\n",
       "      <td>30082771.0</td>\n",
       "      <td>30082771.0</td>\n",
       "      <td>30082771.0</td>\n",
       "      <td>30082771.0</td>\n",
       "    </tr>\n",
       "    <tr>\n",
       "      <th>mean</th>\n",
       "      <td>48.0</td>\n",
       "      <td>449855.6</td>\n",
       "      <td>1676532.4</td>\n",
       "      <td>1.1</td>\n",
       "    </tr>\n",
       "    <tr>\n",
       "      <th>std</th>\n",
       "      <td>25.9</td>\n",
       "      <td>259993.9</td>\n",
       "      <td>1308053.6</td>\n",
       "      <td>0.3</td>\n",
       "    </tr>\n",
       "    <tr>\n",
       "      <th>min</th>\n",
       "      <td>1.0</td>\n",
       "      <td>1.0</td>\n",
       "      <td>1.0</td>\n",
       "      <td>1.0</td>\n",
       "    </tr>\n",
       "    <tr>\n",
       "      <th>25%</th>\n",
       "      <td>26.0</td>\n",
       "      <td>224613.0</td>\n",
       "      <td>415810.0</td>\n",
       "      <td>1.0</td>\n",
       "    </tr>\n",
       "    <tr>\n",
       "      <th>50%</th>\n",
       "      <td>49.0</td>\n",
       "      <td>449804.0</td>\n",
       "      <td>1508864.0</td>\n",
       "      <td>1.0</td>\n",
       "    </tr>\n",
       "    <tr>\n",
       "      <th>75%</th>\n",
       "      <td>71.0</td>\n",
       "      <td>675242.0</td>\n",
       "      <td>2740463.5</td>\n",
       "      <td>1.0</td>\n",
       "    </tr>\n",
       "    <tr>\n",
       "      <th>max</th>\n",
       "      <td>91.0</td>\n",
       "      <td>900000.0</td>\n",
       "      <td>4445718.0</td>\n",
       "      <td>152.0</td>\n",
       "    </tr>\n",
       "  </tbody>\n",
       "</table>\n",
       "</div>"
      ],
      "text/plain": [
       "             time     user_id  creative_id  click_times\n",
       "count  30082771.0  30082771.0   30082771.0   30082771.0\n",
       "mean         48.0    449855.6    1676532.4          1.1\n",
       "std          25.9    259993.9    1308053.6          0.3\n",
       "min           1.0         1.0          1.0          1.0\n",
       "25%          26.0    224613.0     415810.0          1.0\n",
       "50%          49.0    449804.0    1508864.0          1.0\n",
       "75%          71.0    675242.0    2740463.5          1.0\n",
       "max          91.0    900000.0    4445718.0        152.0"
      ]
     },
     "execution_count": null,
     "metadata": {},
     "output_type": "execute_result"
    }
   ],
   "source": [
    "# 点击行为\r\n",
    "all_click.describe().round(1)"
   ]
  },
  {
   "cell_type": "code",
   "execution_count": null,
   "metadata": {
    "collapsed": false
   },
   "outputs": [
    {
     "name": "stdout",
     "output_type": "stream",
     "text": [
      "33585513 /home/aistudio/datasets/test/click_log.csv\n",
      "2618160 /home/aistudio/datasets/test/ad.csv\n",
      "             time     user_id  creative_id  click_times\n",
      "count  33585512.0  33585512.0   33585512.0   33585512.0\n",
      "mean         48.0   3499713.9    1674632.1          1.1\n",
      "std          25.9    288331.3    1308090.1          0.4\n",
      "min           1.0   3000001.0          1.0          1.0\n",
      "25%          26.0   3249486.0     415805.0          1.0\n",
      "50%          49.0   3500907.0    1506880.0          1.0\n",
      "75%          71.0   3748320.0    2737762.0          1.0\n",
      "max          91.0   4000000.0    4445720.0        185.0\n",
      "       creative_id      ad_id  product_category  advertiser_id\n",
      "count    2618159.0  2618159.0         2618159.0      2618159.0\n",
      "mean     2192127.4  1888152.1               7.8        27553.0\n",
      "std      1285007.9  1099370.7               6.8        15360.2\n",
      "min            1.0        1.0               1.0            1.0\n",
      "25%      1077500.5   940042.5               2.0        15137.0\n",
      "50%      2188608.0  1886218.0               5.0        25305.0\n",
      "75%      3304232.5  2839309.5              18.0        38416.0\n",
      "max      4445720.0  3812202.0              18.0        62965.0\n"
     ]
    }
   ],
   "source": [
    "# 每个数据文件describe\r\n",
    "!wc -l \"/home/aistudio/datasets/test/click_log.csv\"\r\n",
    "!wc -l \"/home/aistudio/datasets/test/ad.csv\"\r\n",
    "\r\n",
    "import pandas as pd\r\n",
    "import numpy as np\r\n",
    "from tqdm import tqdm\r\n",
    "import random\r\n",
    "\r\n",
    "foldername = \"/home/aistudio/datasets/test/\"\r\n",
    "def load_csv(filename):\r\n",
    "    return pd.read_csv(filename)\r\n",
    "\r\n",
    "test_all_click = load_csv(foldername + \"click_log.csv\")\r\n",
    "test_all_ad = load_csv(foldername + \"ad.csv\")\r\n",
    "print(test_all_click.describe().round(1))\r\n",
    "print(test_all_ad.describe().round(1))"
   ]
  },
  {
   "cell_type": "markdown",
   "metadata": {
    "collapsed": false
   },
   "source": [
    "# Test测试代码区"
   ]
  },
  {
   "cell_type": "code",
   "execution_count": null,
   "metadata": {
    "collapsed": false
   },
   "outputs": [
    {
     "data": {
      "image/png": "[encoded data removed]",
      "text/plain": [
       "<Figure size 432x288 with 1 Axes>"
      ]
     },
     "metadata": {},
     "output_type": "display_data"
    }
   ],
   "source": [
    "# 统计商品种类，发现集中2，18\r\n",
    "import pandas as pd\r\n",
    "import numpy as np\r\n",
    "from tqdm import tqdm\r\n",
    "import random\r\n",
    "import matplotlib.pyplot as plt\r\n",
    "\r\n",
    "foldername = \"/home/aistudio/datasets/train_preliminary/\"\r\n",
    "def load_csv(filename):\r\n",
    "    return pd.read_csv(filename)\r\n",
    "\r\n",
    "ads = load_csv(foldername + \"ad_mini.csv\")\r\n",
    "ads_industry = ads['product_category'].value_counts().sort_index()\r\n",
    "ads_industry.plot(kind='bar')\r\n",
    "plt.show()"
   ]
  },
  {
   "cell_type": "code",
   "execution_count": null,
   "metadata": {
    "collapsed": false
   },
   "outputs": [
    {
     "name": "stdout",
     "output_type": "stream",
     "text": [
      "count    899999.0\n",
      "mean         33.4\n",
      "std          31.4\n",
      "min           2.0\n",
      "25%          15.0\n",
      "50%          24.0\n",
      "75%          40.0\n",
      "max        1706.0\n",
      "dtype: float64\n",
      "89.0\n"
     ]
    }
   ],
   "source": [
    "# 点击次数，需要洗掉过分的，感觉是2或者10或者21,\r\n",
    "# user_id = 839368, 记录太多,一共16868\r\n",
    "# click_times = 152, 点击次数最多\r\n",
    "# 0.75 -> 40, 0.9 ->66, 0.95 ->89\r\n",
    "import pandas as pd\r\n",
    "import numpy as np\r\n",
    "from tqdm import tqdm\r\n",
    "import random\r\n",
    "import matplotlib.pyplot as plt\r\n",
    "\r\n",
    "foldername = \"/home/aistudio/datasets/train_preliminary/\"\r\n",
    "def load_csv(filename):\r\n",
    "    return pd.read_cs'click_times']\r\n",
    "now_click = all_click\r\n",
    "remove_click = now_click[(now_click['user_id']!=839368) & (now_click['clicclick = now_click\r\n",
    "cut_click = remove_click.grlick[\"click_times\"]\r\n",
    "print(cut_click.size().a(cut_user.value_counts())\r\n"
   ]
  },
  {
   "cell_type": "code",
   "execution_count": null,
   "metadata": {
    "collapsed": false
   },
   "outputs": [
    {
     "name": "stderr",
     "output_type": "stream",
     "text": [
      "2020-06-02 19:29:36,780 : INFO : fixing click_log.csv\n",
      "2020-06-02 19:32:13,213 : INFO : Finish fixing click_log.csv\n",
      "2020-06-02 19:32:13,214 : INFO : fixing click_log.csv\n"
     ]
    },
    {
     "name": "stdout",
     "output_type": "stream",
     "text": [
      "             time     user_id  creative_id  click_times\n",
      "count  30065902.0  30065902.0   30065902.0   30065902.0\n",
      "mean         48.0    449637.0    1676791.2          1.1\n",
      "std          25.9    259903.0    1308061.9          0.3\n",
      "min           1.0         1.0          1.0          1.0\n",
      "25%          26.0    224496.0     415810.0          1.0\n",
      "50%          49.0    449544.0    1509313.0          1.0\n",
      "75%          71.0    674890.0    2740833.0          1.0\n",
      "max          91.0    900000.0    4445718.0         67.0 \n",
      "\n"
     ]
    },
    {
     "name": "stderr",
     "output_type": "stream",
     "text": [
      "2020-06-02 19:32:16,681 : INFO : Finish fixing click_log.csv\n",
      "2020-06-02 19:32:16,682 : INFO : fixing click_log.csv\n"
     ]
    },
    {
     "name": "stdout",
     "output_type": "stream",
     "text": [
      "        user_id       age    gender\n",
      "count  899999.0  899999.0  899999.0\n",
      "mean   450000.1       4.2       1.3\n",
      "std    259807.6       2.0       0.5\n",
      "min         1.0       1.0       1.0\n",
      "25%    225000.5       3.0       1.0\n",
      "50%    450000.0       4.0       1.0\n",
      "75%    674999.5       6.0       2.0\n",
      "max    900000.0      10.0       2.0 \n",
      "\n"
     ]
    },
    {
     "name": "stderr",
     "output_type": "stream",
     "text": [
      "2020-06-02 19:32:36,254 : INFO : Finish fixing click_log.csv\n"
     ]
    },
    {
     "name": "stdout",
     "output_type": "stream",
     "text": [
      "       creative_id      ad_id  product_id  product_category  advertiser_id  \\\n",
      "count    2481135.0  2481135.0   2481135.0         2481135.0      2481135.0   \n",
      "mean     2192007.8  1888106.6      4887.1               7.8        27416.2   \n",
      "std      1285497.2  1099763.5      8995.7               6.8        15346.3   \n",
      "min            1.0        1.0         0.0               1.0            2.0   \n",
      "25%      1076369.5   939192.5         0.0               2.0        14974.0   \n",
      "50%      2191948.0  1889017.0      1296.0               5.0        25197.0   \n",
      "75%      3304419.5  2839458.0      3286.0              18.0        38254.0   \n",
      "max      4445718.0  3812200.0     44313.0              18.0        62965.0   \n",
      "\n",
      "        industry  \n",
      "count  2481135.0  \n",
      "mean       181.2  \n",
      "std        120.8  \n",
      "min          0.0  \n",
      "25%         47.0  \n",
      "50%        238.0  \n",
      "75%        296.0  \n",
      "max        335.0   \n",
      "\n"
     ]
    }
   ],
   "source": [
    "# 三张表的过滤器\r\n",
    "# 输入 click_log.csv, user.csv, ad.csv\r\n",
    "# 输出 click_log_fix.csv, user_fix.csv, ad_fix.csv\r\n",
    "import os\r\n",
    "import pandas as pd\r\n",
    "import logging\r\n",
    "\r\n",
    "foldername = \"/home/aistudio/datasets/train_preliminary/\"\r\n",
    "clickname = \"click_log.csv\"\r\n",
    "username = \"user.csv\"\r\n",
    "adname = \"ad.csv\"\r\n",
    "# clickname = \"click_log_mini.csv\"\r\n",
    "# username = \"user_mini.csv\"\r\n",
    "# adname = \"ad_mini.csv\"\r\n",
    "\r\n",
    "def load_csv(filename):\r\n",
    "    return pd.read_csv(filename)\r\n",
    "\r\n",
    "def fix_click_csv(datas):\r\n",
    "    datas = datas[(datas['user_id']!=839368) & (datas['click_times']!=152)]\r\n",
    "    return datas\r\n",
    "\r\n",
    "def fix_user_csv(datas):\r\n",
    "    datas = datas[datas['user_id']!=839368]\r\n",
    "    return datas\r\n",
    "\r\n",
    "def fix_ad_csv(datas):\r\n",
    "    datas['product_id'] = datas['product_id'].apply(lambda x : 0 if x == '\\\\N' else int(x))\r\n",
    "    datas['industry'] = datas['industry'].apply(lambda x : 0 if x == '\\\\N' else int(x))\r\n",
    "    return datas\r\n",
    "\r\n",
    "\r\n",
    "if __name__ == '__main__':\r\n",
    "    logging.basicConfig(format='%(asctime)s : %(levelname)s : %(message)s', level=logging.INFO)\r\n",
    "\r\n",
    "    if not os.path.exists(foldername + \"fix_\" + clickname):\r\n",
    "        logging.info(\"fixing \" + clickname)\r\n",
    "        datas = load_csv(foldername + clickname)\r\n",
    "        datas = fix_click_csv(datas)\r\n",
    "        datas.to_csv(foldername + \"fix_\" + clickname)\r\n",
    "        # print(datas.head(10))\r\n",
    "        print(datas.describe().round(1),\"\\n\")\r\n",
    "        logging.info(\"Finish fixing \" + clickname)\r\n",
    "\r\n",
    "    if not os.path.exists(foldername + \"fix_\" + username):\r\n",
    "        logging.info(\"fixing \" + clickname)\r\n",
    "        datas = load_csv(foldername + username)\r\n",
    "        datas = fix_user_csv(datas)\r\n",
    "        datas.to_csv(foldername + \"fix_\" + username)\r\n",
    "        # print(datas.head(10))\r\n",
    "        print(datas.describe().round(1),\"\\n\")\r\n",
    "        logging.info(\"Finish fixing \" + clickname)\r\n",
    "\r\n",
    "    if not os.path.exists(foldername + \"fix_\" + adname):\r\n",
    "        logging.info(\"fixing \" + clickname)\r\n",
    "        datas = load_csv(foldername + adname)\r\n",
    "        datas = fix_ad_csv(datas)\r\n",
    "        datas.to_csv(foldername + \"fix_\" + adname)\r\n",
    "        # print(datas.head(10))\r\n",
    "        print(datas.describe().round(1),\"\\n\")\r\n",
    "        logging.info(\"Finish fixing \" + clickname)"
   ]
  },
  {
   "cell_type": "code",
   "execution_count": 2,
   "metadata": {
    "collapsed": false
   },
   "outputs": [
    {
     "ename": "ModuleNotFoundError",
     "evalue": "No module named 'gensim'",
     "output_type": "error",
     "traceback": [
      "\u001b[0;31m---------------------------------------------------------------------------\u001b[0m",
      "\u001b[0;31mModuleNotFoundError\u001b[0m                       Traceback (most recent call last)",
      "\u001b[0;32m<ipython-input-2-74ca502dd0ae>\u001b[0m in \u001b[0;36m<module>\u001b[0;34m\u001b[0m\n\u001b[1;32m      6\u001b[0m \u001b[0;32mimport\u001b[0m \u001b[0mlogging\u001b[0m\u001b[0;34m\u001b[0m\u001b[0;34m\u001b[0m\u001b[0m\n\u001b[1;32m      7\u001b[0m \u001b[0;32mfrom\u001b[0m \u001b[0mcollections\u001b[0m \u001b[0;32mimport\u001b[0m \u001b[0mOrderedDict\u001b[0m\u001b[0;34m,\u001b[0m \u001b[0mdefaultdict\u001b[0m\u001b[0;34m\u001b[0m\u001b[0;34m\u001b[0m\u001b[0m\n\u001b[0;32m----> 8\u001b[0;31m \u001b[0;32mfrom\u001b[0m \u001b[0mgensim\u001b[0m\u001b[0;34m.\u001b[0m\u001b[0mmodels\u001b[0m \u001b[0;32mimport\u001b[0m \u001b[0mWord2Vec\u001b[0m\u001b[0;34m\u001b[0m\u001b[0;34m\u001b[0m\u001b[0m\n\u001b[0m\u001b[1;32m      9\u001b[0m \u001b[0;34m\u001b[0m\u001b[0m\n\u001b[1;32m     10\u001b[0m \u001b[0mfoldername\u001b[0m \u001b[0;34m=\u001b[0m \u001b[0;34m\"/home/aistudio/datasets/train_preliminary/\"\u001b[0m\u001b[0;34m\u001b[0m\u001b[0;34m\u001b[0m\u001b[0m\n",
      "\u001b[0;31mModuleNotFoundError\u001b[0m: No module named 'gensim'"
     ]
    }
   ],
   "source": [
    "# 实现一个word2ve的模型, 利用click,user,ad三张表,user作为groupby,click作为序列,ad作为信息\r\n",
    "import pandas as pd\r\n",
    "import numpy as np\r\n",
    "from tqdm import tqdm\r\n",
    "import json\r\n",
    "import logging\r\n",
    "from collections import OrderedDict, defaultdict\r\n",
    "from gensim.models import Word2Vec \r\n",
    "\r\n",
    "foldername = \"/home/aistudio/datasets/train_preliminary/\"\r\n",
    "modelfoldername = \"/home/aistudio/models/train/\"\r\n",
    "# clickname = \"fix_click_log.csv\"\r\n",
    "# username = \"fix_user.csv\"\r\n",
    "# adname = \"fix_ad.csv\"\r\n",
    "clickname = \"fix_click_log_mini.csv\"\r\n",
    "username = \"fix_user_mini.csv\"\r\n",
    "adname = \"fix_ad_mini.csv\"\r\n",
    "\r\n",
    "def load_csv(filename):\r\n",
    "    return pd.read_csv(filename)\r\n",
    "\r\n",
    "def transform_pandas2dict(datas):\r\n",
    "    dict_datas = dict()\r\n",
    "    for index, row in datas.iterrows():\r\n",
    "        # print(row,\" \",type(row))\r\n",
    "        dict_datas[int(row['creative_id'])] = row.to_dict()\r\n",
    "    return dict_datas\r\n",
    "\r\n",
    "def sequence_behavior_operate(datas, ads, columnname):\r\n",
    "    # print(\"-\"*10,\"\\n\")\r\n",
    "    seq = []\r\n",
    "    datas = datas.sort_values(\"time\") \r\n",
    "    for index, row in datas.iterrows():\r\n",
    "        seq.append(str(ads[int(row['creative_id'])][columnname]))\r\n",
    "    # print(\"-\"*10)\r\n",
    "    return seq\r\n",
    "\r\n",
    "\r\n",
    "def get_click_seqs(clicks, ads, columnname):\r\n",
    "    group_clicks = clicks.groupby([\"user_id\"])\r\n",
    "    click_sequences = []\r\n",
    "    for name, group in tqdm(list(group_clicks)):\r\n",
    "        now_seq = sequence_behavior_operate(group, ads, columnname)\r\n",
    "        click_sequences.append(now_seq)\r\n",
    "    # print(click_sequences[:5])\r\n",
    "\r\n",
    "if __name__ == '__main__':\r\n",
    "    logging.basicConfig(format='%(asctime)s : %(levelname)s : %(message)s', level=logging.INFO)\r\n",
    "    seq_file_flag = True\r\n",
    "    GeneraForce = True\r\n",
    "    for columnname in [\"creative_id\", \"ad_id\"]:\r\n",
    "        if not os.path.exist(foldername + \"seqs_user_\" + columnname + \".json\"):\r\n",
    "            seq_file_flag = False\r\n",
    "    if (not seq_file_flag) or GeneraForce:\r\n",
    "        logging.info(\"Generate sequence\")\r\n",
    "        logging.info(\"Loading \" + adname)\r\n",
    "        ads = load_csv(foldername + adname)\r\n",
    "        logging.info(\"Trans ad dataframe to dict\")\r\n",
    "        ads = transform_pandas2dict(ads)\r\n",
    "        # print(ads)\r\n",
    "        logging.info(\"Loading \" + clickname)\r\n",
    "        clicks = load_csv(foldername + clickname)\r\n",
    "        for columnname in [\"creative_id\", \"ad_id\"]:\r\n",
    "            if os.path.exist(foldername + \"seqs_user_\" + columnname + \".json\") and (not GeneraForce):\r\n",
    "                continue\r\n",
    "            logging.info(\"Get sequence\" + columnname)\r\n",
    "            seqs_list = get_click_seqs(clicks,ads,columnname)\r\n",
    "            logging.info(\"Saving sequence\" + columnname)\r\n",
    "            with open(foldername + \"seqs_user_\" + columnname + \".json\" ,\"w\") as f:\r\n",
    "                json.dump(seqs_list,f)\r\n",
    "    \r\n",
    "    for columnname in [\"creative_id\", \"ad_id\"]: \r\n",
    "        click_seqs = json.load(open(foldername + \"seqs_user_\" + columnname + \".json\",\"r\"))\r\n",
    "        model = Word2Vec(click_seqs, sg=1, size=300, window=5, min_count=3, negative=3, sample=0.001, hs=1, workers=4,iter=20) \r\n",
    "        model.save(modelfoldername + \"seq_\" + columnname + \"_word2vec.model\")\r\n"
   ]
  }
 ],
 "metadata": {
  "kernelspec": {
   "display_name": "PaddlePaddle 1.8.0 (Python 3.5)",
   "language": "python",
   "name": "py35-paddle1.2.0"
  },
  "language_info": {
   "codemirror_mode": {
    "name": "ipython",
    "version": 3
   },
   "file_extension": ".py",
   "mimetype": "text/x-python",
   "name": "python",
   "nbconvert_exporter": "python",
   "pygments_lexer": "ipython3",
   "version": "3.7.4"
  }
 },
 "nbformat": 4,
 "nbformat_minor": 1
}